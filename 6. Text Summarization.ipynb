{
 "cells": [
  {
   "cell_type": "code",
   "execution_count": 3,
   "id": "e79c1895",
   "metadata": {},
   "outputs": [
    {
     "name": "stderr",
     "output_type": "stream",
     "text": [
      "[nltk_data] Downloading package punkt to\n",
      "[nltk_data]     C:\\Users\\david\\AppData\\Roaming\\nltk_data...\n",
      "[nltk_data]   Package punkt is already up-to-date!\n",
      "[nltk_data] Downloading package stopwords to\n",
      "[nltk_data]     C:\\Users\\david\\AppData\\Roaming\\nltk_data...\n",
      "[nltk_data]   Package stopwords is already up-to-date!\n"
     ]
    }
   ],
   "source": [
    "from TMfunctions import *\n",
    "import numpy as np\n",
    "import pandas as pd\n",
    "import nltk\n",
    "nltk.download('punkt') # one time execution\n",
    "nltk.download('stopwords')\n",
    "import re\n",
    "import networkx\n",
    "from sklearn.feature_extraction.text import TfidfVectorizer\n",
    "import time\n",
    "from Bio import Entrez\n",
    "from tqdm import tqdm"
   ]
  },
  {
   "cell_type": "code",
   "execution_count": 4,
   "id": "b58768d9",
   "metadata": {},
   "outputs": [],
   "source": [
    "from nltk.tokenize import word_tokenize\n",
    "from nltk.corpus import stopwords"
   ]
  },
  {
   "cell_type": "code",
   "execution_count": 5,
   "id": "251d374b",
   "metadata": {},
   "outputs": [],
   "source": [
    "from sklearn.model_selection import KFold"
   ]
  },
  {
   "cell_type": "markdown",
   "id": "3a4f01ac",
   "metadata": {},
   "source": [
    "# Separe Titles from Abstracts"
   ]
  },
  {
   "cell_type": "code",
   "execution_count": 2,
   "id": "cb7381d4",
   "metadata": {},
   "outputs": [],
   "source": [
    "train = pd.read_csv('Data/No PreProcessing/train.csv', index_col = 0)\n",
    "test = pd.read_csv('Data/No PreProcessing/test.csv', index_col = 0)\n",
    "data = pd.concat([train, test])"
   ]
  },
  {
   "cell_type": "code",
   "execution_count": 3,
   "id": "7b434825",
   "metadata": {},
   "outputs": [],
   "source": [
    "def search(query):\n",
    "    Entrez.email = 'd.giardini2@campus.unimib.it'\n",
    "    handle = Entrez.esearch(db='pubmed',\n",
    "                            sort='relevance',\n",
    "                            retmax='1',\n",
    "                            retmode='xml',\n",
    "                            term=query,\n",
    "                           field='title',\n",
    "                           api_key='384b5a209a2bb99c452bd22b2f0b2add3f09')\n",
    "    results = Entrez.read(handle)\n",
    "    return results\n",
    "\n",
    "def fetch_details(id_list):\n",
    "    ids = ','.join(id_list)\n",
    "    Entrez.email = 'd.giardini2@campus.unimib.it'\n",
    "    handle = Entrez.efetch(db='pubmed',\n",
    "                           retmode='xml',\n",
    "                           id=ids)\n",
    "    results = Entrez.read(handle)\n",
    "    return results"
   ]
  },
  {
   "cell_type": "code",
   "execution_count": 4,
   "id": "a2794498",
   "metadata": {},
   "outputs": [],
   "source": [
    "import pickle"
   ]
  },
  {
   "cell_type": "code",
   "execution_count": 19,
   "id": "97a5aee1",
   "metadata": {},
   "outputs": [
    {
     "name": "stderr",
     "output_type": "stream",
     "text": [
      "9445it [3:43:16,  1.42s/it]\n"
     ]
    }
   ],
   "source": [
    "errors = []\n",
    "for index, row in tqdm(data.iterrows()):\n",
    "    if index in list(diz.keys()):\n",
    "        continue\n",
    "    ids = search(row['medical_abstract'].split('.')[0])['IdList']\n",
    "    if not ids:\n",
    "        errors.append(index)\n",
    "        continue\n",
    "    result = fetch_details(ids)\n",
    "    try:\n",
    "        diz[index] = result['PubmedArticle'][0]['MedlineCitation']['Article']['ArticleTitle']\n",
    "    except:\n",
    "        errors.append(index)\n",
    "        continue\n",
    "    with open('Data/titles.pkl', 'wb') as f:\n",
    "        pickle.dump(diz, f)\n",
    "    time.sleep(0.2)"
   ]
  },
  {
   "cell_type": "code",
   "execution_count": 49,
   "id": "c3710924",
   "metadata": {},
   "outputs": [],
   "source": [
    "with open('Data/errors.pkl', 'wb') as f:\n",
    "        pickle.dump(errors, f)"
   ]
  },
  {
   "cell_type": "code",
   "execution_count": 48,
   "id": "2f00ea8a",
   "metadata": {},
   "outputs": [
    {
     "data": {
      "text/plain": [
       "71"
      ]
     },
     "execution_count": 48,
     "metadata": {},
     "output_type": "execute_result"
    }
   ],
   "source": [
    "len(errors)"
   ]
  },
  {
   "cell_type": "markdown",
   "id": "fbf12f88",
   "metadata": {},
   "source": [
    "## Build Dataset"
   ]
  },
  {
   "cell_type": "code",
   "execution_count": 50,
   "id": "0966a264",
   "metadata": {},
   "outputs": [],
   "source": [
    "train = pd.read_csv('Data/No PreProcessing/train.csv', index_col = 0)\n",
    "test = pd.read_csv('Data/No PreProcessing/test.csv', index_col = 0)\n",
    "data = pd.concat([train, test])"
   ]
  },
  {
   "cell_type": "code",
   "execution_count": 64,
   "id": "0b03efad",
   "metadata": {},
   "outputs": [
    {
     "name": "stderr",
     "output_type": "stream",
     "text": [
      "100%|███████████████████████████████████████████████████████████████████████████| 9403/9403 [00:00<00:00, 48740.90it/s]\n"
     ]
    }
   ],
   "source": [
    "lst = []\n",
    "for key,value in tqdm(titles.items()):\n",
    "    diz = {'col_id' : key, 'title' : value}\n",
    "    tit_abst = data.loc[key, 'medical_abstract']\n",
    "    abst = tit_abst.split(value)[-1].strip()\n",
    "    diz['medical_abstract'] = abst\n",
    "    lst.append(diz)"
   ]
  },
  {
   "cell_type": "code",
   "execution_count": 72,
   "id": "cd0bbd52",
   "metadata": {},
   "outputs": [
    {
     "data": {
      "text/html": [
       "<div>\n",
       "<style scoped>\n",
       "    .dataframe tbody tr th:only-of-type {\n",
       "        vertical-align: middle;\n",
       "    }\n",
       "\n",
       "    .dataframe tbody tr th {\n",
       "        vertical-align: top;\n",
       "    }\n",
       "\n",
       "    .dataframe thead th {\n",
       "        text-align: right;\n",
       "    }\n",
       "</style>\n",
       "<table border=\"1\" class=\"dataframe\">\n",
       "  <thead>\n",
       "    <tr style=\"text-align: right;\">\n",
       "      <th></th>\n",
       "      <th>title</th>\n",
       "      <th>medical_abstract</th>\n",
       "    </tr>\n",
       "    <tr>\n",
       "      <th>col_id</th>\n",
       "      <th></th>\n",
       "      <th></th>\n",
       "    </tr>\n",
       "  </thead>\n",
       "  <tbody>\n",
       "    <tr>\n",
       "      <th>2839</th>\n",
       "      <td>Immunosuppressive acidic protein in malignant ...</td>\n",
       "      <td>The immunosuppressive acidic protein (IAP) has...</td>\n",
       "    </tr>\n",
       "    <tr>\n",
       "      <th>5670</th>\n",
       "      <td>Arterial mechanical properties in dilated card...</td>\n",
       "      <td>The effects of aging on arterial mechanical pr...</td>\n",
       "    </tr>\n",
       "    <tr>\n",
       "      <th>6062</th>\n",
       "      <td>Physiology of aging related to outcome in the ...</td>\n",
       "      <td>Thirty-nine patients with adult respiratory di...</td>\n",
       "    </tr>\n",
       "    <tr>\n",
       "      <th>5609</th>\n",
       "      <td>The long-distance effects of brain lesions: vi...</td>\n",
       "      <td>We describe several new possibilities for the ...</td>\n",
       "    </tr>\n",
       "    <tr>\n",
       "      <th>1924</th>\n",
       "      <td>Randomized phase II evaluation of carboplatin ...</td>\n",
       "      <td>A total of 83 patients with metastatic transit...</td>\n",
       "    </tr>\n",
       "  </tbody>\n",
       "</table>\n",
       "</div>"
      ],
      "text/plain": [
       "                                                    title  \\\n",
       "col_id                                                      \n",
       "2839    Immunosuppressive acidic protein in malignant ...   \n",
       "5670    Arterial mechanical properties in dilated card...   \n",
       "6062    Physiology of aging related to outcome in the ...   \n",
       "5609    The long-distance effects of brain lesions: vi...   \n",
       "1924    Randomized phase II evaluation of carboplatin ...   \n",
       "\n",
       "                                         medical_abstract  \n",
       "col_id                                                     \n",
       "2839    The immunosuppressive acidic protein (IAP) has...  \n",
       "5670    The effects of aging on arterial mechanical pr...  \n",
       "6062    Thirty-nine patients with adult respiratory di...  \n",
       "5609    We describe several new possibilities for the ...  \n",
       "1924    A total of 83 patients with metastatic transit...  "
      ]
     },
     "execution_count": 72,
     "metadata": {},
     "output_type": "execute_result"
    }
   ],
   "source": [
    "df = pd.DataFrame(lst)\n",
    "df.index = df['col_id']\n",
    "df = df[['title', 'medical_abstract']]\n",
    "df.head()"
   ]
  },
  {
   "cell_type": "code",
   "execution_count": 74,
   "id": "a623a0eb",
   "metadata": {},
   "outputs": [],
   "source": [
    "df.to_csv('Data/title&abstract.csv')"
   ]
  },
  {
   "cell_type": "code",
   "execution_count": 77,
   "id": "5f4ee6b4",
   "metadata": {},
   "outputs": [],
   "source": [
    "data = df"
   ]
  },
  {
   "cell_type": "markdown",
   "id": "5757a957",
   "metadata": {},
   "source": [
    "# Graph"
   ]
  },
  {
   "cell_type": "code",
   "execution_count": 75,
   "id": "d45a28a0",
   "metadata": {},
   "outputs": [],
   "source": [
    "stop_words = nltk.corpus.stopwords.words('english')\n",
    "\n",
    "def normalize_document(doc):\n",
    "    # lower case and remove special characters\\whitespaces\n",
    "    doc = re.sub(r'[^a-zA-Z\\s]', '', doc, re.I|re.A)\n",
    "    doc = doc.lower()\n",
    "    doc = doc.strip()\n",
    "    # tokenize document\n",
    "    tokens = nltk.word_tokenize(doc)\n",
    "    # filter stopwords out of document\n",
    "    filtered_tokens = [token for token in tokens if token not in stop_words]\n",
    "    # re-create document from filtered tokens\n",
    "    doc = ' '.join(filtered_tokens)\n",
    "    return doc"
   ]
  },
  {
   "cell_type": "code",
   "execution_count": 79,
   "id": "a8bb2256",
   "metadata": {},
   "outputs": [
    {
     "data": {
      "text/plain": [
       "TfidfVectorizer(max_df=0.5, min_df=3)"
      ]
     },
     "execution_count": 79,
     "metadata": {},
     "output_type": "execute_result"
    }
   ],
   "source": [
    "stop_words = nltk.corpus.stopwords.words('english')\n",
    "normalize_corpus = np.vectorize(normalize_document)\n",
    "\n",
    "vectorizer = TfidfVectorizer(min_df=3, max_df=0.5)\n",
    "vectorizer.fit(data['medical_abstract'])"
   ]
  },
  {
   "cell_type": "markdown",
   "id": "d264038f",
   "metadata": {},
   "source": [
    "PageRank ranks each node based on a number of in-degree of that node, and inversely proportional to the out-degree of the other nodes that point to that node. In the proposed methodology, a network graph is built from Twitter where the user acts as a node and tweet-retweet relation as a directed edge. The user who retweet the tweet points to the original user who tweets. From the formed graph, each node’s PageRank is calculated as well as other node properties like centrality, degree, and followers, and average time retweeted. The result shows that the PageRank score of a node is directly proportional to closeness centrality and in-degree of the node. However, the ranking with PageRank, closeness centrality, and in-degree ranking yield different ranking results."
   ]
  },
  {
   "cell_type": "code",
   "execution_count": 84,
   "id": "3c67d4ef",
   "metadata": {},
   "outputs": [],
   "source": [
    "def summarize_doc(DOCUMENT, num_sentences=2):\n",
    "    DOCUMENT = re.sub(r'\\n|\\r', ' ', DOCUMENT)\n",
    "    DOCUMENT = re.sub(r' +', ' ', DOCUMENT)\n",
    "    DOCUMENT = re.sub(r'\\d+', ' ', DOCUMENT)\n",
    "    pattern = r'\\[[^\\]]*\\]'\n",
    "    DOCUMENT = re.sub(pattern, ' ', DOCUMENT)\n",
    "    DOCUMENT = DOCUMENT.strip()\n",
    "    sentences = nltk.sent_tokenize(DOCUMENT)\n",
    "    norm_sentences = normalize_corpus(sentences)\n",
    "    norm_sentences[:3]\n",
    "    dt_matrix = vectorizer.transform(norm_sentences)\n",
    "    dt_matrix = dt_matrix.toarray()\n",
    "    similarity_matrix = np.matmul(dt_matrix, dt_matrix.T)\n",
    "    similarity_graph = networkx.from_numpy_array(similarity_matrix)\n",
    "    scores = networkx.pagerank(similarity_graph)\n",
    "    ranked_sentences = sorted(((score, index) for index, score  in scores.items()), reverse=True)\n",
    "    try:\n",
    "        top_sentence_indices = [ranked_sentences[index][1] for index in range(num_sentences)]\n",
    "    except:\n",
    "        top_sentence_indices = ranked_sentences[0][1]\n",
    "        return ' '.join(np.array(sentences)[top_sentence_indices])\n",
    "    top_sentence_indices.sort()\n",
    "    return ' '.join(np.array(sentences)[top_sentence_indices])"
   ]
  },
  {
   "cell_type": "code",
   "execution_count": 85,
   "id": "a05ddb73",
   "metadata": {},
   "outputs": [],
   "source": [
    "data['summary'] = data['medical_abstract'].apply(summarize_doc)"
   ]
  },
  {
   "cell_type": "code",
   "execution_count": 87,
   "id": "f1916cdc",
   "metadata": {},
   "outputs": [
    {
     "data": {
      "text/html": [
       "<div>\n",
       "<style scoped>\n",
       "    .dataframe tbody tr th:only-of-type {\n",
       "        vertical-align: middle;\n",
       "    }\n",
       "\n",
       "    .dataframe tbody tr th {\n",
       "        vertical-align: top;\n",
       "    }\n",
       "\n",
       "    .dataframe thead th {\n",
       "        text-align: right;\n",
       "    }\n",
       "</style>\n",
       "<table border=\"1\" class=\"dataframe\">\n",
       "  <thead>\n",
       "    <tr style=\"text-align: right;\">\n",
       "      <th></th>\n",
       "      <th>medical_abstract</th>\n",
       "      <th>summary</th>\n",
       "      <th>title</th>\n",
       "    </tr>\n",
       "    <tr>\n",
       "      <th>col_id</th>\n",
       "      <th></th>\n",
       "      <th></th>\n",
       "      <th></th>\n",
       "    </tr>\n",
       "  </thead>\n",
       "  <tbody>\n",
       "    <tr>\n",
       "      <th>2839</th>\n",
       "      <td>The immunosuppressive acidic protein (IAP) has been described as a tumor associated marker in some solid tumors and hematologic diseases. To define the clinical relevance the authors determined the serum IAP levels in 194 patients with malignancies before initiation of therapy, 14 patients with idiopathic thrombocytopenic purpura (ITP), 28 patients with bacterial pneumonia, and 23 healthy volunteers. Immunosuppressive acidic protein was measured by radial immunodiffusion. The mean value of our controls was 405 +/- 48 micrograms/ml. This is consistent with published data. The mean values for patients with malignancies varied from 554 micrograms/ml to 698 micrograms/ml. These are only marginally higher than those observed for the controls. In contrast patients with bacterial pneumonia demonstrated significantly elevated values (1038 +/- 261 micrograms/ml). The authors conclude that IAP cannot be used as a diagnostic marker for the malignant diseases examined in this study.</td>\n",
       "      <td>The immunosuppressive acidic protein (IAP) has been described as a tumor associated marker in some solid tumors and hematologic diseases. The mean values for patients with malignancies varied from   micrograms/ml to   micrograms/ml.</td>\n",
       "      <td>Immunosuppressive acidic protein in malignant diseases. Clinical relevance?</td>\n",
       "    </tr>\n",
       "    <tr>\n",
       "      <th>5670</th>\n",
       "      <td>The effects of aging on arterial mechanical properties and the response to nitroprusside were examined in 25 patients with dilated cardiomyopathy. High-fidelity pressures were recorded with a multisensor catheter. Pulse wave velocity was determined between two sensors in the thoracic aorta. Arterial compliance was determined by an analysis of the diastolic waveform and cardiac output. At baseline, despite a similar systemic vascular resistance, the pulsatile load (e.g., arterial compliance) and wave transmission characteristics (e.g., pulse wave velocity) were altered with aging. Arterial compliance was reduced in older (greater than 50 yr, n = 8) versus younger (less than 35 yr, n = 8) patients (0.51 +/- 0.17 vs. 1.33 +/- 0.63 ml/mmHg, P less than 0.01) and intermediate in those 35-50 yr of age (n = 9, 0.72 +/- 0.40 ml/mmHg). There was a positive correlation between age and pulse wave velocity (r = +0.90). Nitroprusside infusion decreased resistance, increased arterial compliance, and lowered pulse wave velocity in all groups. Yet, advancing age was associated with a greater fall in wave velocity for a given fall in aortic pressure. The slope (K) of the relation between pulse wave velocity and aortic diastolic pressure progressively increased with age (0.01 +/- 0.03, 0.06 +/- 0.02, and 0.09 +/- 0.03 m/s-mmHg). Multiple linear regression analysis revealed a significant relation between K and age. These data demonstrate that in older patients with dilated cardiomyopathy the left ventricle is coupled to an arterial circulation that has a greater pulsatile load, despite a similar steady load. Furthermore, these age-related changes in the arterial system affect the hemodynamic response to pharmacologically-induced vasodilatation.</td>\n",
       "      <td>There was a positive correlation between age and pulse wave velocity (r = + . Nitroprusside infusion decreased resistance, increased arterial compliance, and lowered pulse wave velocity in all groups.</td>\n",
       "      <td>Arterial mechanical properties in dilated cardiomyopathy. Aging and the response to nitroprusside.</td>\n",
       "    </tr>\n",
       "    <tr>\n",
       "      <th>6062</th>\n",
       "      <td>Thirty-nine patients with adult respiratory distress syndrome (ARDS) were enrolled in a study to identify potential age-related changes in organ system function that may help explain the apparent association between age and poor outcome in these patients. Criteria for enrollment included an arterial PO2-to-inspired O2 concentration ratio less than or equal to 200 in a clinical setting consistent with ARDS. Patients were excluded if they were less than 18 yr old, had clinical manifestations of congestive heart failure, were seropositive for the human immunodeficiency virus, or had stage II metastatic lung cancer. Patients were divided into two groups: those less than 60 yr old (mean 42 +/- 3 yr, n = 17) and those greater than or equal to 60 yr old (73 +/- 2 yr, n = 16). A group of six patients was analyzed as a separate subset based on a body temperature less than or equal to 97.5 degrees F at enrollment (hypothermic patients, 73 +/- 4 yr old). Sepsis was present in 67% of the nonhypothermic patients and in all the hypothermic patients. Mortality rates were 12% in the patients less than 60 yr and 69% in the nonhypothermic patients greater than or equal to 60 yr. All the hypothermic patients died. Sequential data obtained over 6 days were compared within and between groups. The following results were obtained. 1) The ratio of arterial PO2 to inspired O2 fraction was greater and the positive end-expiratory pressure used was significantly less in the patients greater than or equal to 60 yr old compared with the younger group.</td>\n",
       "      <td>Patients were divided into two groups: those less than   yr old (mean   +/-   yr, n =  ) and those greater than or equal to   yr old (  +/-   yr, n =  ). Mortality rates were  % in the patients less than   yr and  % in the nonhypothermic patients greater than or equal to   yr. All the hypothermic patients died.</td>\n",
       "      <td>Physiology of aging related to outcome in the adult respiratory distress syndrome.</td>\n",
       "    </tr>\n",
       "    <tr>\n",
       "      <th>5609</th>\n",
       "      <td>We describe several new possibilities for the study of degenerated myelinated tracts in the human central nervous system (CNS). The methods are based on the visualization of myelin breakdown products that show birefringence in polarized light and, when stained with Nile blue and benzpyrene-3,4, exhibit fluorescence. Even after lengthy formalin fixation, the methods permit the localization of anterogradely degenerated tracts in a variety of fiber systems in the brains of patients who died between five and 20 months after the onset of neurological symptoms. Particularly the polarizing technique, because of its simplicity, can be added to the usual neuropathological methods for demonstrating the long-distance effects of a brain lesion. As research tools, these methods would also aid in the study of the anatomical substrate of human neurological symptomatology.</td>\n",
       "      <td>Even after lengthy formalin fixation, the methods permit the localization of anterogradely degenerated tracts in a variety of fiber systems in the brains of patients who died between five and   months after the onset of neurological symptoms. As research tools, these methods would also aid in the study of the anatomical substrate of human neurological symptomatology.</td>\n",
       "      <td>The long-distance effects of brain lesions: visualization of myelinated pathways in the human brain using polarizing and fluorescence microscopy.</td>\n",
       "    </tr>\n",
       "    <tr>\n",
       "      <th>1924</th>\n",
       "      <td>A total of 83 patients with metastatic transitional cell carcinoma who had previously received no systemic therapy entered a randomized phase II evaluation of carboplatin and cis-dichloro-transdihydroxy-bis-isopropylamine platinum IV (CHIP), administered respectively at 400 and 270 mg./m.2 every 28 days. Among evaluable patients with measurable disease response rates were 3 of 22 (14%, 95% confidence interval 5 to 35%) for carboplatin and 4 of 25 (16%, 95% confidence interval 5 to 36%) for CHIP. Among 17 patients with evaluable but not measurable metastases (10 carboplatin and 7 CHIP recipients) there were no responses. Median survival for 64 evaluable patients was 4.8 months (5.0 months for carboplatin and 4.3 months for CHIP recipients). Independent factors prognostic for survival (p less than 0.01) were performance status (0 or 1 versus 2 or 3), liver metastases, prior radiation therapy and recent weight loss (p = 0.02). Multivariate analysis confirmed that a performance status of 2 or 3 and liver metastases were predictive of shorter survival. A total of 31% of the patients treated with carboplatin and 34% of those who received CHIP experienced severe or life-threatening myelosuppression. While the response rates with carboplatin and CHIP are modest, we believe that the characteristics of these agents indicate that they should be evaluated further.</td>\n",
       "      <td>Among evaluable patients with measurable disease response rates were   of   ( %,  % confidence interval   to  %) for carboplatin and   of   ( %,  % confidence interval   to  %) for CHIP. Among   patients with evaluable but not measurable metastases (  carboplatin and   CHIP recipients) there were no responses.</td>\n",
       "      <td>Randomized phase II evaluation of carboplatin and CHIP in advanced transitional cell carcinoma of the urothelium. The Eastern Cooperative Oncology Group.</td>\n",
       "    </tr>\n",
       "    <tr>\n",
       "      <th>...</th>\n",
       "      <td>...</td>\n",
       "      <td>...</td>\n",
       "      <td>...</td>\n",
       "    </tr>\n",
       "    <tr>\n",
       "      <th>3125</th>\n",
       "      <td>Postoperative sore throat: topical hydrocortisone Forty patients undergoing tracheal intubation and controlled ventilation of the lungs for elective surgical procedures were studied. They were allocated randomly into one of two groups. The tracheal tubes used for group A patients were lubricated before insertion with water-soluble 1% hydrocortisone cream. Those for group B patients were lubricated with KY jelly. The incidence of postoperative sore throat was found to be significantly greater in group A. Topical 1% hydrocortisone cream is therefore ineffective in the prevention of postoperative sore throat.</td>\n",
       "      <td>Postoperative sore throat: topical hydrocortisone Forty patients undergoing tracheal intubation and controlled ventilation of the lungs for elective surgical procedures were studied. The incidence of postoperative sore throat was found to be significantly greater in group A. Topical  % hydrocortisone cream is therefore ineffective in the prevention of postoperative sore throat.</td>\n",
       "      <td>Postoperative sore throat: topical hydrocortisone.</td>\n",
       "    </tr>\n",
       "    <tr>\n",
       "      <th>6430</th>\n",
       "      <td>Cancer mortality in workers exposed to 2,3,7,8-tetrachlorodibenzo-p-dioxin BACKGROUND. In both animal and epidemiologic studies, exposure to dioxin (2,3,7,8-tetrachlorodibenzo-p-dioxin, or TCDD) has been associated with an increased risk of cancer. METHODS. We conducted a retrospective cohort study of mortality among the 5172 workers at 12 plants in the United States that produced chemicals contaminated with TCDD. Occupational exposure was documented by reviewing job descriptions and by measuring TCDD in serum from a sample of 253 workers. Causes of death were taken from death certificates. RESULTS. Mortality from several cancers previously associated with TCDD (stomach, liver, and nasal cancers, Hodgkin's disease, and non-Hodgkin's lymphoma) was not significantly elevated in this cohort. Mortality from soft-tissue sarcoma was increased, but not significantly (4 deaths; standardized mortality ratio [SMR], 338; 95 percent confidence interval, 92 to 865). In the subcohort of 1520 workers with greater than or equal to 1 year of exposure and greater than or equal to 20 years of latency, however, mortality was significantly increased for soft-tissue sarcoma (3 deaths; SMR, 922; 95 percent confidence interval, 190 to 2695) and for cancers of the respiratory system (SMR, 142; 95 percent confidence interval, 103 to 192). Mortality from all cancers combined was slightly but significantly elevated in the overall cohort (SMR, 115; 95 percent confidence interval, 102 to 130) and was higher in the subcohort with greater than or equal to 1 year of exposure and greater than or equal to 20 years of latency (SMR, 146; 95 percent confidence interval, 121 to 176). CONCLUSIONS. This study of mortality among workers with occupational exposure to TCDD does not confirm the high relative risks reported for many cancers in previous studies. Conclusions about an increase in the risk of soft-tissue sarcoma are limited by small numbers and misclassification on death certificates. Excess mortality from all cancers combined, cancers of the respiratory tract, and soft-tissue sarcoma may result from exposure to TCDD, although we cannot exclude the possible contribution of factors such as smoking and occupational exposure to other chemicals.</td>\n",
       "      <td>In the subcohort of   workers with greater than or equal to   year of exposure and greater than or equal to   years of latency, however, mortality was significantly increased for soft-tissue sarcoma (  deaths; SMR,  ;   percent confidence interval,   to  ) and for cancers of the respiratory system (SMR,  ;   percent confidence interval,   to  ). This study of mortality among workers with occupational exposure to TCDD does not confirm the high relative risks reported for many cancers in previous studies.</td>\n",
       "      <td>Mortality from bladder cancer in dyestuff workers exposed to aromatic amines: A 73-year follow-up.</td>\n",
       "    </tr>\n",
       "    <tr>\n",
       "      <th>4094</th>\n",
       "      <td>Reconstruction after mastectomy. Advances in materials and techniques, especially those involving transposition of muscle and skin flaps, have made breast reconstruction possible for most women who undergo mastectomy for breast cancer. The availability of this option can alleviate the breast and chest wall deformity that results from virtually all local treatment of breast cancer. It is essential that the reconstruction surgeon be part of the breast cancer management team from the beginning of treatment planning and that this surgeon work closely with the general surgeon, medical oncologist, and radiation therapist as well as the adjunctive treatment team members. The patient's clinical status and the type of local treatment will be significant determinants of the reconstructive options. For women with stage I breast cancer, these decisions may be based largely on the oncologist's local and adjunctive therapy procedures and the woman's desire to proceed or delay. For women with systemic disease, all members of the breast management team may need to agree on the advisability and timing of reconstruction. Central to all of the numerous decisions described in this paper regarding the timing, type, and extent of breast reconstruction is the primary goal of the entire team: the best possible management of the breast cancer itself. The promise of attractive, symmetric, and natural appearing breasts, complete with a symmetric nipple-areolar complex, has eased somewhat the diminishment of self-esteem and the threat to femininity that can accompany the loss of a breast. By lowering fear, the widely recognized availability of breast reconstruction may encourage more women to monitor their breasts and seek diagnosis of changes and may influence selection of the type of local treatment if cancer is detected. Because of the psychological and cultural significance of the breast, the reconstructive surgeon must be particularly sensitive to the psychological and aesthetic expectations of the patient. Even in those patients with metastases and limited life expectancy, breast reconstruction can enhance the quality of life.</td>\n",
       "      <td>Advances in materials and techniques, especially those involving transposition of muscle and skin flaps, have made breast reconstruction possible for most women who undergo mastectomy for breast cancer. Central to all of the numerous decisions described in this paper regarding the timing, type, and extent of breast reconstruction is the primary goal of the entire team: the best possible management of the breast cancer itself.</td>\n",
       "      <td>Advances in breast reconstruction after mastectomy.</td>\n",
       "    </tr>\n",
       "    <tr>\n",
       "      <th>6792</th>\n",
       "      <td>Headache: a marker of depression Patients who presented with a chief complaint of headache in the outpatient family practice setting were found to have a high prevalence of depression (63%) by the Zung Self-Rating Depression Scale (SDS) index. A statistically significant relationship was found between the frequency of headaches (P = .03) with level of depression. In fact, 74% of patients with headaches recurring almost every day had a clinically significant depression diagnosed as defined by the Zung SDS score. The Zung SDS score also correlated with the length of time that the problem of headache existed (P less than .05). Item analysis of the individual 20-item depression score revealed that four questions accounted for 93% of the variance. This analysis suggests that shorter, more abbreviated screening questions could be developed and refined in the future for use by the busy clinician. Headache is an important marker for depression in the primary care setting. It can be inferred from this study that the clinician may need to focus more on treating the entity of depression than on treating just the symptom of headache.</td>\n",
       "      <td>Headache: a marker of depression Patients who presented with a chief complaint of headache in the outpatient family practice setting were found to have a high prevalence of depression ( %) by the Zung Self-Rating Depression Scale (SDS) index. Headache is an important marker for depression in the primary care setting.</td>\n",
       "      <td>Headache: a marker of depression.</td>\n",
       "    </tr>\n",
       "    <tr>\n",
       "      <th>3764</th>\n",
       "      <td>Control of hypertensive emergencies Although uncommon, hypertensive emergencies require prompt recognition and treatment to reduce very high morbidity and mortality rates. Admission to an intensive care unit for treatment and monitoring is essential for optimal care. A Swan-Ganz catheter is often helpful in management. Intravenous nitroprusside sodium (Nipride, Nitropress) is probably the drug of choice for hypertensive emergencies other than those due to eclampsia or pheochromocytoma.</td>\n",
       "      <td>Control of hypertensive emergencies Although uncommon, hypertensive emergencies require prompt recognition and treatment to reduce very high morbidity and mortality rates. Intravenous nitroprusside sodium (Nipride, Nitropress) is probably the drug of choice for hypertensive emergencies other than those due to eclampsia or pheochromocytoma.</td>\n",
       "      <td>Control of blood pressure in hypertensive neurological emergencies.</td>\n",
       "    </tr>\n",
       "  </tbody>\n",
       "</table>\n",
       "<p>9403 rows × 3 columns</p>\n",
       "</div>"
      ],
      "text/plain": [
       "                                                                                                                                                                                                                                                                                                                                                                                                                                                                                                                                                                                                                                                                                                                                                                                                                                                                                                                                                                                                                                                                                                                                                                                                                                                                                                                                                                                                                                                                                                                                                                                                                                                                                                                                                                                                                                                                                                                                                                                                                                                                                                                                                                                                                                                                                                                                medical_abstract  \\\n",
       "col_id                                                                                                                                                                                                                                                                                                                                                                                                                                                                                                                                                                                                                                                                                                                                                                                                                                                                                                                                                                                                                                                                                                                                                                                                                                                                                                                                                                                                                                                                                                                                                                                                                                                                                                                                                                                                                                                                                                                                                                                                                                                                                                                                                                                                                                                                                                                                             \n",
       "2839                                                                                                                                                                                                                                                                                                                                                                                                                                                                                                                                                                                                                                                                                                                                                                                                                                                                                                                                                                                                                                                                                                                                                                                                                                                                                                                   The immunosuppressive acidic protein (IAP) has been described as a tumor associated marker in some solid tumors and hematologic diseases. To define the clinical relevance the authors determined the serum IAP levels in 194 patients with malignancies before initiation of therapy, 14 patients with idiopathic thrombocytopenic purpura (ITP), 28 patients with bacterial pneumonia, and 23 healthy volunteers. Immunosuppressive acidic protein was measured by radial immunodiffusion. The mean value of our controls was 405 +/- 48 micrograms/ml. This is consistent with published data. The mean values for patients with malignancies varied from 554 micrograms/ml to 698 micrograms/ml. These are only marginally higher than those observed for the controls. In contrast patients with bacterial pneumonia demonstrated significantly elevated values (1038 +/- 261 micrograms/ml). The authors conclude that IAP cannot be used as a diagnostic marker for the malignant diseases examined in this study.   \n",
       "5670                                                                                                                                                                                                                                                                                                                                                                                                                                                                                                                 The effects of aging on arterial mechanical properties and the response to nitroprusside were examined in 25 patients with dilated cardiomyopathy. High-fidelity pressures were recorded with a multisensor catheter. Pulse wave velocity was determined between two sensors in the thoracic aorta. Arterial compliance was determined by an analysis of the diastolic waveform and cardiac output. At baseline, despite a similar systemic vascular resistance, the pulsatile load (e.g., arterial compliance) and wave transmission characteristics (e.g., pulse wave velocity) were altered with aging. Arterial compliance was reduced in older (greater than 50 yr, n = 8) versus younger (less than 35 yr, n = 8) patients (0.51 +/- 0.17 vs. 1.33 +/- 0.63 ml/mmHg, P less than 0.01) and intermediate in those 35-50 yr of age (n = 9, 0.72 +/- 0.40 ml/mmHg). There was a positive correlation between age and pulse wave velocity (r = +0.90). Nitroprusside infusion decreased resistance, increased arterial compliance, and lowered pulse wave velocity in all groups. Yet, advancing age was associated with a greater fall in wave velocity for a given fall in aortic pressure. The slope (K) of the relation between pulse wave velocity and aortic diastolic pressure progressively increased with age (0.01 +/- 0.03, 0.06 +/- 0.02, and 0.09 +/- 0.03 m/s-mmHg). Multiple linear regression analysis revealed a significant relation between K and age. These data demonstrate that in older patients with dilated cardiomyopathy the left ventricle is coupled to an arterial circulation that has a greater pulsatile load, despite a similar steady load. Furthermore, these age-related changes in the arterial system affect the hemodynamic response to pharmacologically-induced vasodilatation.   \n",
       "6062                                                                                                                                                                                                                                                                                                                                                                                                                                                                                                                                                                                                                                                                                                                                 Thirty-nine patients with adult respiratory distress syndrome (ARDS) were enrolled in a study to identify potential age-related changes in organ system function that may help explain the apparent association between age and poor outcome in these patients. Criteria for enrollment included an arterial PO2-to-inspired O2 concentration ratio less than or equal to 200 in a clinical setting consistent with ARDS. Patients were excluded if they were less than 18 yr old, had clinical manifestations of congestive heart failure, were seropositive for the human immunodeficiency virus, or had stage II metastatic lung cancer. Patients were divided into two groups: those less than 60 yr old (mean 42 +/- 3 yr, n = 17) and those greater than or equal to 60 yr old (73 +/- 2 yr, n = 16). A group of six patients was analyzed as a separate subset based on a body temperature less than or equal to 97.5 degrees F at enrollment (hypothermic patients, 73 +/- 4 yr old). Sepsis was present in 67% of the nonhypothermic patients and in all the hypothermic patients. Mortality rates were 12% in the patients less than 60 yr and 69% in the nonhypothermic patients greater than or equal to 60 yr. All the hypothermic patients died. Sequential data obtained over 6 days were compared within and between groups. The following results were obtained. 1) The ratio of arterial PO2 to inspired O2 fraction was greater and the positive end-expiratory pressure used was significantly less in the patients greater than or equal to 60 yr old compared with the younger group.   \n",
       "5609                                                                                                                                                                                                                                                                                                                                                                                                                                                                                                                                                                                                                                                                                                                                                                                                                                                                                                                                                                                                                                                                                                                                                                                                                                                                                                                                                                                                                                       We describe several new possibilities for the study of degenerated myelinated tracts in the human central nervous system (CNS). The methods are based on the visualization of myelin breakdown products that show birefringence in polarized light and, when stained with Nile blue and benzpyrene-3,4, exhibit fluorescence. Even after lengthy formalin fixation, the methods permit the localization of anterogradely degenerated tracts in a variety of fiber systems in the brains of patients who died between five and 20 months after the onset of neurological symptoms. Particularly the polarizing technique, because of its simplicity, can be added to the usual neuropathological methods for demonstrating the long-distance effects of a brain lesion. As research tools, these methods would also aid in the study of the anatomical substrate of human neurological symptomatology.   \n",
       "1924                                                                                                                                                                                                                                                                                                                                                                                                                                                                                                                                                                                                                                                                                                                                                                                                                                                                                                              A total of 83 patients with metastatic transitional cell carcinoma who had previously received no systemic therapy entered a randomized phase II evaluation of carboplatin and cis-dichloro-transdihydroxy-bis-isopropylamine platinum IV (CHIP), administered respectively at 400 and 270 mg./m.2 every 28 days. Among evaluable patients with measurable disease response rates were 3 of 22 (14%, 95% confidence interval 5 to 35%) for carboplatin and 4 of 25 (16%, 95% confidence interval 5 to 36%) for CHIP. Among 17 patients with evaluable but not measurable metastases (10 carboplatin and 7 CHIP recipients) there were no responses. Median survival for 64 evaluable patients was 4.8 months (5.0 months for carboplatin and 4.3 months for CHIP recipients). Independent factors prognostic for survival (p less than 0.01) were performance status (0 or 1 versus 2 or 3), liver metastases, prior radiation therapy and recent weight loss (p = 0.02). Multivariate analysis confirmed that a performance status of 2 or 3 and liver metastases were predictive of shorter survival. A total of 31% of the patients treated with carboplatin and 34% of those who received CHIP experienced severe or life-threatening myelosuppression. While the response rates with carboplatin and CHIP are modest, we believe that the characteristics of these agents indicate that they should be evaluated further.   \n",
       "...                                                                                                                                                                                                                                                                                                                                                                                                                                                                                                                                                                                                                                                                                                                                                                                                                                                                                                                                                                                                                                                                                                                                                                                                                                                                                                                                                                                                                                                                                                                                                                                                                                                                                                                                                                                                                                                                                                                                                                                                                                                                                                                                                                                                                                                                                                                                          ...   \n",
       "3125                                                                                                                                                                                                                                                                                                                                                                                                                                                                                                                                                                                                                                                                                                                                                                                                                                                                                                                                                                                                                                                                                                                                                                                                                                                                                                                                                                                                                                                                                                                                                                                                                                                                                                       Postoperative sore throat: topical hydrocortisone Forty patients undergoing tracheal intubation and controlled ventilation of the lungs for elective surgical procedures were studied. They were allocated randomly into one of two groups. The tracheal tubes used for group A patients were lubricated before insertion with water-soluble 1% hydrocortisone cream. Those for group B patients were lubricated with KY jelly. The incidence of postoperative sore throat was found to be significantly greater in group A. Topical 1% hydrocortisone cream is therefore ineffective in the prevention of postoperative sore throat.   \n",
       "6430    Cancer mortality in workers exposed to 2,3,7,8-tetrachlorodibenzo-p-dioxin BACKGROUND. In both animal and epidemiologic studies, exposure to dioxin (2,3,7,8-tetrachlorodibenzo-p-dioxin, or TCDD) has been associated with an increased risk of cancer. METHODS. We conducted a retrospective cohort study of mortality among the 5172 workers at 12 plants in the United States that produced chemicals contaminated with TCDD. Occupational exposure was documented by reviewing job descriptions and by measuring TCDD in serum from a sample of 253 workers. Causes of death were taken from death certificates. RESULTS. Mortality from several cancers previously associated with TCDD (stomach, liver, and nasal cancers, Hodgkin's disease, and non-Hodgkin's lymphoma) was not significantly elevated in this cohort. Mortality from soft-tissue sarcoma was increased, but not significantly (4 deaths; standardized mortality ratio [SMR], 338; 95 percent confidence interval, 92 to 865). In the subcohort of 1520 workers with greater than or equal to 1 year of exposure and greater than or equal to 20 years of latency, however, mortality was significantly increased for soft-tissue sarcoma (3 deaths; SMR, 922; 95 percent confidence interval, 190 to 2695) and for cancers of the respiratory system (SMR, 142; 95 percent confidence interval, 103 to 192). Mortality from all cancers combined was slightly but significantly elevated in the overall cohort (SMR, 115; 95 percent confidence interval, 102 to 130) and was higher in the subcohort with greater than or equal to 1 year of exposure and greater than or equal to 20 years of latency (SMR, 146; 95 percent confidence interval, 121 to 176). CONCLUSIONS. This study of mortality among workers with occupational exposure to TCDD does not confirm the high relative risks reported for many cancers in previous studies. Conclusions about an increase in the risk of soft-tissue sarcoma are limited by small numbers and misclassification on death certificates. Excess mortality from all cancers combined, cancers of the respiratory tract, and soft-tissue sarcoma may result from exposure to TCDD, although we cannot exclude the possible contribution of factors such as smoking and occupational exposure to other chemicals.   \n",
       "4094                                                                                                              Reconstruction after mastectomy. Advances in materials and techniques, especially those involving transposition of muscle and skin flaps, have made breast reconstruction possible for most women who undergo mastectomy for breast cancer. The availability of this option can alleviate the breast and chest wall deformity that results from virtually all local treatment of breast cancer. It is essential that the reconstruction surgeon be part of the breast cancer management team from the beginning of treatment planning and that this surgeon work closely with the general surgeon, medical oncologist, and radiation therapist as well as the adjunctive treatment team members. The patient's clinical status and the type of local treatment will be significant determinants of the reconstructive options. For women with stage I breast cancer, these decisions may be based largely on the oncologist's local and adjunctive therapy procedures and the woman's desire to proceed or delay. For women with systemic disease, all members of the breast management team may need to agree on the advisability and timing of reconstruction. Central to all of the numerous decisions described in this paper regarding the timing, type, and extent of breast reconstruction is the primary goal of the entire team: the best possible management of the breast cancer itself. The promise of attractive, symmetric, and natural appearing breasts, complete with a symmetric nipple-areolar complex, has eased somewhat the diminishment of self-esteem and the threat to femininity that can accompany the loss of a breast. By lowering fear, the widely recognized availability of breast reconstruction may encourage more women to monitor their breasts and seek diagnosis of changes and may influence selection of the type of local treatment if cancer is detected. Because of the psychological and cultural significance of the breast, the reconstructive surgeon must be particularly sensitive to the psychological and aesthetic expectations of the patient. Even in those patients with metastases and limited life expectancy, breast reconstruction can enhance the quality of life.   \n",
       "6792                                                                                                                                                                                                                                                                                                                                                                                                                                                                                                                                                                                                                                                                                                                                                                                                                                                                                                                                                                                                                                                                                                                                                         Headache: a marker of depression Patients who presented with a chief complaint of headache in the outpatient family practice setting were found to have a high prevalence of depression (63%) by the Zung Self-Rating Depression Scale (SDS) index. A statistically significant relationship was found between the frequency of headaches (P = .03) with level of depression. In fact, 74% of patients with headaches recurring almost every day had a clinically significant depression diagnosed as defined by the Zung SDS score. The Zung SDS score also correlated with the length of time that the problem of headache existed (P less than .05). Item analysis of the individual 20-item depression score revealed that four questions accounted for 93% of the variance. This analysis suggests that shorter, more abbreviated screening questions could be developed and refined in the future for use by the busy clinician. Headache is an important marker for depression in the primary care setting. It can be inferred from this study that the clinician may need to focus more on treating the entity of depression than on treating just the symptom of headache.   \n",
       "3764                                                                                                                                                                                                                                                                                                                                                                                                                                                                                                                                                                                                                                                                                                                                                                                                                                                                                                                                                                                                                                                                                                                                                                                                                                                                                                                                                                                                                                                                                                                                                                                                                                                                                                                                                                                                                                  Control of hypertensive emergencies Although uncommon, hypertensive emergencies require prompt recognition and treatment to reduce very high morbidity and mortality rates. Admission to an intensive care unit for treatment and monitoring is essential for optimal care. A Swan-Ganz catheter is often helpful in management. Intravenous nitroprusside sodium (Nipride, Nitropress) is probably the drug of choice for hypertensive emergencies other than those due to eclampsia or pheochromocytoma.   \n",
       "\n",
       "                                                                                                                                                                                                                                                                                                                                                                                                                                                                                                                             summary  \\\n",
       "col_id                                                                                                                                                                                                                                                                                                                                                                                                                                                                                                                                 \n",
       "2839                                                                                                                                                                                                                                                                                        The immunosuppressive acidic protein (IAP) has been described as a tumor associated marker in some solid tumors and hematologic diseases. The mean values for patients with malignancies varied from   micrograms/ml to   micrograms/ml.   \n",
       "5670                                                                                                                                                                                                                                                                                                                        There was a positive correlation between age and pulse wave velocity (r = + . Nitroprusside infusion decreased resistance, increased arterial compliance, and lowered pulse wave velocity in all groups.   \n",
       "6062                                                                                                                                                                                                        Patients were divided into two groups: those less than   yr old (mean   +/-   yr, n =  ) and those greater than or equal to   yr old (  +/-   yr, n =  ). Mortality rates were  % in the patients less than   yr and  % in the nonhypothermic patients greater than or equal to   yr. All the hypothermic patients died.   \n",
       "5609                                                                                                                                               Even after lengthy formalin fixation, the methods permit the localization of anterogradely degenerated tracts in a variety of fiber systems in the brains of patients who died between five and   months after the onset of neurological symptoms. As research tools, these methods would also aid in the study of the anatomical substrate of human neurological symptomatology.   \n",
       "1924                                                                                                                                                                                                         Among evaluable patients with measurable disease response rates were   of   ( %,  % confidence interval   to  %) for carboplatin and   of   ( %,  % confidence interval   to  %) for CHIP. Among   patients with evaluable but not measurable metastases (  carboplatin and   CHIP recipients) there were no responses.   \n",
       "...                                                                                                                                                                                                                                                                                                                                                                                                                                                                                                                              ...   \n",
       "3125                                                                                                                                    Postoperative sore throat: topical hydrocortisone Forty patients undergoing tracheal intubation and controlled ventilation of the lungs for elective surgical procedures were studied. The incidence of postoperative sore throat was found to be significantly greater in group A. Topical  % hydrocortisone cream is therefore ineffective in the prevention of postoperative sore throat.   \n",
       "6430    In the subcohort of   workers with greater than or equal to   year of exposure and greater than or equal to   years of latency, however, mortality was significantly increased for soft-tissue sarcoma (  deaths; SMR,  ;   percent confidence interval,   to  ) and for cancers of the respiratory system (SMR,  ;   percent confidence interval,   to  ). This study of mortality among workers with occupational exposure to TCDD does not confirm the high relative risks reported for many cancers in previous studies.   \n",
       "4094                                                                                   Advances in materials and techniques, especially those involving transposition of muscle and skin flaps, have made breast reconstruction possible for most women who undergo mastectomy for breast cancer. Central to all of the numerous decisions described in this paper regarding the timing, type, and extent of breast reconstruction is the primary goal of the entire team: the best possible management of the breast cancer itself.   \n",
       "6792                                                                                                                                                                                                  Headache: a marker of depression Patients who presented with a chief complaint of headache in the outpatient family practice setting were found to have a high prevalence of depression ( %) by the Zung Self-Rating Depression Scale (SDS) index. Headache is an important marker for depression in the primary care setting.   \n",
       "3764                                                                                                                                                                           Control of hypertensive emergencies Although uncommon, hypertensive emergencies require prompt recognition and treatment to reduce very high morbidity and mortality rates. Intravenous nitroprusside sodium (Nipride, Nitropress) is probably the drug of choice for hypertensive emergencies other than those due to eclampsia or pheochromocytoma.   \n",
       "\n",
       "                                                                                                                                                            title  \n",
       "col_id                                                                                                                                                             \n",
       "2839                                                                                  Immunosuppressive acidic protein in malignant diseases. Clinical relevance?  \n",
       "5670                                                           Arterial mechanical properties in dilated cardiomyopathy. Aging and the response to nitroprusside.  \n",
       "6062                                                                           Physiology of aging related to outcome in the adult respiratory distress syndrome.  \n",
       "5609            The long-distance effects of brain lesions: visualization of myelinated pathways in the human brain using polarizing and fluorescence microscopy.  \n",
       "1924    Randomized phase II evaluation of carboplatin and CHIP in advanced transitional cell carcinoma of the urothelium. The Eastern Cooperative Oncology Group.  \n",
       "...                                                                                                                                                           ...  \n",
       "3125                                                                                                           Postoperative sore throat: topical hydrocortisone.  \n",
       "6430                                                           Mortality from bladder cancer in dyestuff workers exposed to aromatic amines: A 73-year follow-up.  \n",
       "4094                                                                                                          Advances in breast reconstruction after mastectomy.  \n",
       "6792                                                                                                                            Headache: a marker of depression.  \n",
       "3764                                                                                          Control of blood pressure in hypertensive neurological emergencies.  \n",
       "\n",
       "[9403 rows x 3 columns]"
      ]
     },
     "execution_count": 87,
     "metadata": {},
     "output_type": "execute_result"
    }
   ],
   "source": [
    "pd.set_option('display.max_colwidth', None)\n",
    "data[['medical_abstract', 'summary', 'title']]"
   ]
  },
  {
   "cell_type": "code",
   "execution_count": 89,
   "id": "23761bc3",
   "metadata": {},
   "outputs": [],
   "source": [
    "data.to_csv('Data/graphSumm.csv')"
   ]
  },
  {
   "cell_type": "code",
   "execution_count": 18,
   "id": "19e36ed5",
   "metadata": {},
   "outputs": [],
   "source": [
    "df = pd.read_csv('Data/graphSumm.csv')"
   ]
  },
  {
   "cell_type": "code",
   "execution_count": 20,
   "id": "c0606085",
   "metadata": {},
   "outputs": [
    {
     "data": {
      "text/html": [
       "<div>\n",
       "<style scoped>\n",
       "    .dataframe tbody tr th:only-of-type {\n",
       "        vertical-align: middle;\n",
       "    }\n",
       "\n",
       "    .dataframe tbody tr th {\n",
       "        vertical-align: top;\n",
       "    }\n",
       "\n",
       "    .dataframe thead th {\n",
       "        text-align: right;\n",
       "    }\n",
       "</style>\n",
       "<table border=\"1\" class=\"dataframe\">\n",
       "  <thead>\n",
       "    <tr style=\"text-align: right;\">\n",
       "      <th></th>\n",
       "      <th>col_id</th>\n",
       "      <th>title</th>\n",
       "      <th>medical_abstract</th>\n",
       "      <th>summary</th>\n",
       "    </tr>\n",
       "  </thead>\n",
       "  <tbody>\n",
       "  </tbody>\n",
       "</table>\n",
       "</div>"
      ],
      "text/plain": [
       "Empty DataFrame\n",
       "Columns: [col_id, title, medical_abstract, summary]\n",
       "Index: []"
      ]
     },
     "execution_count": 20,
     "metadata": {},
     "output_type": "execute_result"
    }
   ],
   "source": [
    "df[df['summary'] == '']"
   ]
  },
  {
   "cell_type": "markdown",
   "id": "bc5bddeb",
   "metadata": {},
   "source": [
    "## Graph Evaluation"
   ]
  },
  {
   "cell_type": "code",
   "execution_count": 95,
   "id": "471ab534",
   "metadata": {},
   "outputs": [
    {
     "name": "stdout",
     "output_type": "stream",
     "text": [
      "{'rouge1': 0.21552359816270705, 'rouge2': 0.09005551600391185, 'rougeL': 0.17562077093867032, 'rougeLsum': 0.17561396384656563}\n"
     ]
    }
   ],
   "source": [
    "#from evaluate import load\n",
    "# Load the ROUGE metric\n",
    "import evaluate\n",
    "rouge = evaluate.load('rouge')\n",
    "candidates = list(data['summary'])\n",
    "\n",
    "references = list(data['title'])\n",
    "results = rouge.compute(predictions=candidates, references=references)\n",
    "print(results)"
   ]
  },
  {
   "cell_type": "markdown",
   "id": "5c4db306",
   "metadata": {},
   "source": [
    "# LSA"
   ]
  },
  {
   "cell_type": "code",
   "execution_count": 5,
   "id": "a9a22b7c-ed7c-4ab9-9689-dbad6ac35353",
   "metadata": {},
   "outputs": [],
   "source": [
    "data = pd.read_csv('Data/title&abstract.csv', index_col = 0)"
   ]
  },
  {
   "cell_type": "code",
   "execution_count": 26,
   "id": "ecb23b4c-a00d-444a-aaf0-1b050af02210",
   "metadata": {},
   "outputs": [],
   "source": [
    "tokenizer = nltk.data.load('tokenizers/punkt/english.pickle')\n",
    "\n",
    "# Apply preProcessing\n",
    "def preprocess(text):\n",
    "    # Remove punctuation and other non-alphanumeric characters\n",
    "    text =  re.sub('[^a-zA-Z]', ' ', text)\n",
    "    # Tokenize the text into words\n",
    "    words = word_tokenize(text.lower())\n",
    "    # Remove stop words\n",
    "    words = [word for word in words if word not in stopwords.words('english')]\n",
    "    return ' '.join(words)\n",
    "\n",
    "for document in data['medical_abstract']:\n",
    "    no_stop += [preprocess(x) for x in tokenizer.tokenize(document)]"
   ]
  },
  {
   "cell_type": "code",
   "execution_count": 29,
   "id": "9de7689d",
   "metadata": {},
   "outputs": [],
   "source": [
    "from sklearn.feature_extraction.text import TfidfVectorizer\n",
    "\n",
    "tfidf = TfidfVectorizer()\n",
    "tfidf_matrix = tfidf.fit_transform(no_stop)\n",
    "X = tfidf_matrix.toarray()"
   ]
  },
  {
   "cell_type": "code",
   "execution_count": 30,
   "id": "fb90dd45-c893-49b0-b12e-39a7e132c773",
   "metadata": {},
   "outputs": [
    {
     "data": {
      "text/plain": [
       "(72035, 31816)"
      ]
     },
     "execution_count": 30,
     "metadata": {},
     "output_type": "execute_result"
    }
   ],
   "source": [
    "X.shape"
   ]
  },
  {
   "cell_type": "code",
   "execution_count": 31,
   "id": "2604e67f",
   "metadata": {},
   "outputs": [],
   "source": [
    "Xt = np.transpose(X)"
   ]
  },
  {
   "cell_type": "code",
   "execution_count": 32,
   "id": "a498d6ab",
   "metadata": {},
   "outputs": [
    {
     "data": {
      "text/plain": [
       "20"
      ]
     },
     "execution_count": 32,
     "metadata": {},
     "output_type": "execute_result"
    }
   ],
   "source": [
    "from sklearn.decomposition import TruncatedSVD\n",
    "\n",
    "# SVD represent documents and terms in vectors \n",
    "svd_model = TruncatedSVD(n_components=20, algorithm='randomized', n_iter=100, random_state=122)\n",
    "\n",
    "svd_model.fit(Xt)\n",
    "\n",
    "len(svd_model.components_)"
   ]
  },
  {
   "cell_type": "code",
   "execution_count": 33,
   "id": "22a967c7",
   "metadata": {},
   "outputs": [
    {
     "name": "stdout",
     "output_type": "stream",
     "text": [
      "Topic 0: hindquarters, cephamycins, stabilisations, nonmedical, lobes, impulse, henseleit, \n",
      "Topic 1: baroreceptors, strangulating, photosensitive, italy, angiotoxic, csmc, dermatographism, \n",
      "Topic 2: maltreated, pustules, restudied, met, ndga, hindquarters, ending, \n",
      "Topic 3: capsulothalamolenticular, meticulous, transposed, unspecified, flareups, strata, strategic, \n",
      "Topic 4: capsulothalamolenticular, meticulous, discusses, poliovirus, analgesics, slum, polyreactive, \n",
      "Topic 5: avenue, chylomicron, depiction, dissatisfied, engaged, evolving, graves, \n",
      "Topic 6: routine, overdrive, hms, csm, neovascularity, preferred, massive, \n",
      "Topic 7: doubles, repermeation, contamination, resorting, directors, persistently, granules, \n",
      "Topic 8: textural, italy, complainers, nebivolol, crescentic, rflps, turbid, \n",
      "Topic 9: ceramic, negotiate, posteriorly, adrenoreceptor, nephrogenesis, cryoglobulinemia, roseola, \n",
      "Topic 10: lacunae, leukomalacia, feeders, implied, stilbestrol, chaperone, thyronine, \n",
      "Topic 11: vulva, posteriorly, barrelled, ballet, undergo, scl, nonvomiting, \n",
      "Topic 12: pma, lacunae, hbxag, hc, inferomedially, hbs, implied, \n",
      "Topic 13: adrenocorticolytic, flaky, lymphoepithelial, buccal, stereoselectivity, warmed, subcultures, \n",
      "Topic 14: tpe, tentative, bystander, lookup, embolised, periactin, atheroma, \n",
      "Topic 15: interconnected, adrenocorticotropic, distinct, adrenarche, barrelled, zellweger, terminate, \n",
      "Topic 16: granules, counteraction, ruwenzori, rv, resorting, stitch, subxiphoid, \n",
      "Topic 17: arrivers, nontapering, psychological, phonopneumography, phosalone, ac, hematinics, \n",
      "Topic 18: haps, hexamethylene, utilizes, cytologically, hexametazime, anticopper, precordium, \n",
      "Topic 19: induce, electroretinography, karnofsky, osteoarthrosis, osteoblastic, contraindication, assayed, \n"
     ]
    }
   ],
   "source": [
    "terms = tfidf.get_feature_names_out()\n",
    "\n",
    "for i, comp in enumerate(svd_model.components_):\n",
    "    terms_comp = zip(terms, comp)\n",
    "    sorted_terms = sorted(terms_comp, key= lambda x:x[1], reverse=True)[:7]\n",
    "    string = \"Topic \"+str(i)+\": \"\n",
    "    for t in sorted_terms:\n",
    "        string += t[0].strip()\n",
    "        string += \", \"\n",
    "    print(string)"
   ]
  },
  {
   "cell_type": "code",
   "execution_count": 34,
   "id": "65d01612",
   "metadata": {},
   "outputs": [],
   "source": [
    "# Matrice V trasposta\n",
    "Vt = svd_model.components_"
   ]
  },
  {
   "cell_type": "code",
   "execution_count": 35,
   "id": "85da0a5f",
   "metadata": {},
   "outputs": [
    {
     "data": {
      "text/plain": [
       "(20, 72035)"
      ]
     },
     "execution_count": 35,
     "metadata": {},
     "output_type": "execute_result"
    }
   ],
   "source": [
    "Vt.shape"
   ]
  },
  {
   "cell_type": "code",
   "execution_count": 36,
   "id": "68aa66e5",
   "metadata": {},
   "outputs": [],
   "source": [
    "U = svd_model.fit_transform(Xt)"
   ]
  },
  {
   "cell_type": "code",
   "execution_count": 37,
   "id": "5cb2aa4a",
   "metadata": {},
   "outputs": [
    {
     "data": {
      "text/plain": [
       "(31816, 20)"
      ]
     },
     "execution_count": 37,
     "metadata": {},
     "output_type": "execute_result"
    }
   ],
   "source": [
    "U.shape"
   ]
  },
  {
   "cell_type": "code",
   "execution_count": 38,
   "id": "7f5e7d66-4b7a-43ae-b968-5b72c91e974b",
   "metadata": {},
   "outputs": [],
   "source": [
    "sigma = np.diag(svd_model.singular_values_)"
   ]
  },
  {
   "cell_type": "code",
   "execution_count": 39,
   "id": "738ead99-d91d-4ac0-abc1-a6c428da81ec",
   "metadata": {},
   "outputs": [],
   "source": [
    "D = np.matmul(sigma, Vt)"
   ]
  },
  {
   "cell_type": "code",
   "execution_count": 40,
   "id": "ef279704-ea46-4a3a-bfeb-72d433ad0928",
   "metadata": {},
   "outputs": [
    {
     "data": {
      "text/plain": [
       "(20, 72035)"
      ]
     },
     "execution_count": 40,
     "metadata": {},
     "output_type": "execute_result"
    }
   ],
   "source": [
    "D.shape"
   ]
  },
  {
   "cell_type": "code",
   "execution_count": 41,
   "id": "01e85f05-e0c5-41a6-9da2-356f91a41cbc",
   "metadata": {},
   "outputs": [],
   "source": [
    "import pandas as pd"
   ]
  },
  {
   "cell_type": "code",
   "execution_count": 42,
   "id": "ba219553-d3eb-44cf-89d9-4044ab471057",
   "metadata": {},
   "outputs": [
    {
     "data": {
      "text/plain": [
       "0        0.134329\n",
       "1        0.242585\n",
       "2        0.034525\n",
       "3        0.277814\n",
       "4        0.057175\n",
       "           ...   \n",
       "72030    0.101549\n",
       "72031    0.157085\n",
       "72032    0.182703\n",
       "72033    0.040380\n",
       "72034    0.047526\n",
       "Length: 72035, dtype: float64"
      ]
     },
     "execution_count": 42,
     "metadata": {},
     "output_type": "execute_result"
    }
   ],
   "source": [
    "weights = np.power(pd.DataFrame(np.power(D,2)).sum(axis = 'rows'), 1/2)\n",
    "weights"
   ]
  },
  {
   "cell_type": "code",
   "execution_count": 43,
   "id": "3f19b607-e1ce-464d-a2d2-aed3a904caf4",
   "metadata": {},
   "outputs": [],
   "source": [
    "sentences = []\n",
    "for document in data['medical_abstract']:\n",
    "    sentences += [x for x in tokenizer.tokenize(document)]"
   ]
  },
  {
   "cell_type": "code",
   "execution_count": 45,
   "id": "d4a1c517-f522-413a-a25b-beaedf7a7523",
   "metadata": {},
   "outputs": [],
   "source": [
    "df_weights = pd.DataFrame(weights)\n",
    "df_weights.index = sentences"
   ]
  },
  {
   "cell_type": "code",
   "execution_count": 51,
   "id": "7ce0b72b-1732-4354-820b-82c60787f940",
   "metadata": {},
   "outputs": [],
   "source": [
    "doc_sent = []\n",
    "for document in data['medical_abstract']:\n",
    "    doc_sent.append([x for x in tokenizer.tokenize(document)])"
   ]
  },
  {
   "cell_type": "code",
   "execution_count": 53,
   "id": "1b255027-4938-4d95-b079-5ed575a63ff6",
   "metadata": {},
   "outputs": [],
   "source": [
    "summaries = []\n",
    "for document in doc_sent:\n",
    "    best = list(df_weights.loc[document].sort_values(0, ascending = False).iloc[:2].index)\n",
    "    summary = ' '.join([x for x in document if x in best])\n",
    "    summaries.append(summary)"
   ]
  },
  {
   "cell_type": "code",
   "execution_count": 54,
   "id": "6ed4ef8c-9f39-48a2-9b86-c6c73b5e5340",
   "metadata": {},
   "outputs": [],
   "source": [
    "summary_df = data.copy()\n",
    "summary_df['summary'] = summaries"
   ]
  },
  {
   "cell_type": "code",
   "execution_count": 55,
   "id": "60445e45-43da-48a7-8af5-a402331ad88c",
   "metadata": {
    "jupyter": {
     "outputs_hidden": true
    },
    "scrolled": true,
    "tags": []
   },
   "outputs": [
    {
     "data": {
      "text/html": [
       "<div>\n",
       "<style scoped>\n",
       "    .dataframe tbody tr th:only-of-type {\n",
       "        vertical-align: middle;\n",
       "    }\n",
       "\n",
       "    .dataframe tbody tr th {\n",
       "        vertical-align: top;\n",
       "    }\n",
       "\n",
       "    .dataframe thead th {\n",
       "        text-align: right;\n",
       "    }\n",
       "</style>\n",
       "<table border=\"1\" class=\"dataframe\">\n",
       "  <thead>\n",
       "    <tr style=\"text-align: right;\">\n",
       "      <th></th>\n",
       "      <th>title</th>\n",
       "      <th>medical_abstract</th>\n",
       "      <th>summary</th>\n",
       "    </tr>\n",
       "    <tr>\n",
       "      <th>col_id</th>\n",
       "      <th></th>\n",
       "      <th></th>\n",
       "      <th></th>\n",
       "    </tr>\n",
       "  </thead>\n",
       "  <tbody>\n",
       "    <tr>\n",
       "      <th>2839</th>\n",
       "      <td>Immunosuppressive acidic protein in malignant diseases. Clinical relevance?</td>\n",
       "      <td>The immunosuppressive acidic protein (IAP) has been described as a tumor associated marker in some solid tumors and hematologic diseases. To define the clinical relevance the authors determined the serum IAP levels in 194 patients with malignancies before initiation of therapy, 14 patients with idiopathic thrombocytopenic purpura (ITP), 28 patients with bacterial pneumonia, and 23 healthy volunteers. Immunosuppressive acidic protein was measured by radial immunodiffusion. The mean value of our controls was 405 +/- 48 micrograms/ml. This is consistent with published data. The mean values for patients with malignancies varied from 554 micrograms/ml to 698 micrograms/ml. These are only marginally higher than those observed for the controls. In contrast patients with bacterial pneumonia demonstrated significantly elevated values (1038 +/- 261 micrograms/ml). The authors conclude that IAP cannot be used as a diagnostic marker for the malignant diseases examined in this study.</td>\n",
       "      <td>To define the clinical relevance the authors determined the serum IAP levels in 194 patients with malignancies before initiation of therapy, 14 patients with idiopathic thrombocytopenic purpura (ITP), 28 patients with bacterial pneumonia, and 23 healthy volunteers. The mean value of our controls was 405 +/- 48 micrograms/ml.</td>\n",
       "    </tr>\n",
       "    <tr>\n",
       "      <th>5670</th>\n",
       "      <td>Arterial mechanical properties in dilated cardiomyopathy. Aging and the response to nitroprusside.</td>\n",
       "      <td>The effects of aging on arterial mechanical properties and the response to nitroprusside were examined in 25 patients with dilated cardiomyopathy. High-fidelity pressures were recorded with a multisensor catheter. Pulse wave velocity was determined between two sensors in the thoracic aorta. Arterial compliance was determined by an analysis of the diastolic waveform and cardiac output. At baseline, despite a similar systemic vascular resistance, the pulsatile load (e.g., arterial compliance) and wave transmission characteristics (e.g., pulse wave velocity) were altered with aging. Arterial compliance was reduced in older (greater than 50 yr, n = 8) versus younger (less than 35 yr, n = 8) patients (0.51 +/- 0.17 vs. 1.33 +/- 0.63 ml/mmHg, P less than 0.01) and intermediate in those 35-50 yr of age (n = 9, 0.72 +/- 0.40 ml/mmHg). There was a positive correlation between age and pulse wave velocity (r = +0.90). Nitroprusside infusion decreased resistance, increased arterial compliance, and lowered pulse wave velocity in all groups. Yet, advancing age was associated with a greater fall in wave velocity for a given fall in aortic pressure. The slope (K) of the relation between pulse wave velocity and aortic diastolic pressure progressively increased with age (0.01 +/- 0.03, 0.06 +/- 0.02, and 0.09 +/- 0.03 m/s-mmHg). Multiple linear regression analysis revealed a significant relation between K and age. These data demonstrate that in older patients with dilated cardiomyopathy the left ventricle is coupled to an arterial circulation that has a greater pulsatile load, despite a similar steady load. Furthermore, these age-related changes in the arterial system affect the hemodynamic response to pharmacologically-induced vasodilatation.</td>\n",
       "      <td>Arterial compliance was reduced in older (greater than 50 yr, n = 8) versus younger (less than 35 yr, n = 8) patients (0.51 +/- 0.17 vs. 1.33 +/- 0.63 ml/mmHg, P less than 0.01) and intermediate in those 35-50 yr of age (n = 9, 0.72 +/- 0.40 ml/mmHg). Multiple linear regression analysis revealed a significant relation between K and age.</td>\n",
       "    </tr>\n",
       "    <tr>\n",
       "      <th>6062</th>\n",
       "      <td>Physiology of aging related to outcome in the adult respiratory distress syndrome.</td>\n",
       "      <td>Thirty-nine patients with adult respiratory distress syndrome (ARDS) were enrolled in a study to identify potential age-related changes in organ system function that may help explain the apparent association between age and poor outcome in these patients. Criteria for enrollment included an arterial PO2-to-inspired O2 concentration ratio less than or equal to 200 in a clinical setting consistent with ARDS. Patients were excluded if they were less than 18 yr old, had clinical manifestations of congestive heart failure, were seropositive for the human immunodeficiency virus, or had stage II metastatic lung cancer. Patients were divided into two groups: those less than 60 yr old (mean 42 +/- 3 yr, n = 17) and those greater than or equal to 60 yr old (73 +/- 2 yr, n = 16). A group of six patients was analyzed as a separate subset based on a body temperature less than or equal to 97.5 degrees F at enrollment (hypothermic patients, 73 +/- 4 yr old). Sepsis was present in 67% of the nonhypothermic patients and in all the hypothermic patients. Mortality rates were 12% in the patients less than 60 yr and 69% in the nonhypothermic patients greater than or equal to 60 yr. All the hypothermic patients died. Sequential data obtained over 6 days were compared within and between groups. The following results were obtained. 1) The ratio of arterial PO2 to inspired O2 fraction was greater and the positive end-expiratory pressure used was significantly less in the patients greater than or equal to 60 yr old compared with the younger group.</td>\n",
       "      <td>Mortality rates were 12% in the patients less than 60 yr and 69% in the nonhypothermic patients greater than or equal to 60 yr. All the hypothermic patients died. The following results were obtained.</td>\n",
       "    </tr>\n",
       "    <tr>\n",
       "      <th>5609</th>\n",
       "      <td>The long-distance effects of brain lesions: visualization of myelinated pathways in the human brain using polarizing and fluorescence microscopy.</td>\n",
       "      <td>We describe several new possibilities for the study of degenerated myelinated tracts in the human central nervous system (CNS). The methods are based on the visualization of myelin breakdown products that show birefringence in polarized light and, when stained with Nile blue and benzpyrene-3,4, exhibit fluorescence. Even after lengthy formalin fixation, the methods permit the localization of anterogradely degenerated tracts in a variety of fiber systems in the brains of patients who died between five and 20 months after the onset of neurological symptoms. Particularly the polarizing technique, because of its simplicity, can be added to the usual neuropathological methods for demonstrating the long-distance effects of a brain lesion. As research tools, these methods would also aid in the study of the anatomical substrate of human neurological symptomatology.</td>\n",
       "      <td>Even after lengthy formalin fixation, the methods permit the localization of anterogradely degenerated tracts in a variety of fiber systems in the brains of patients who died between five and 20 months after the onset of neurological symptoms. As research tools, these methods would also aid in the study of the anatomical substrate of human neurological symptomatology.</td>\n",
       "    </tr>\n",
       "    <tr>\n",
       "      <th>1924</th>\n",
       "      <td>Randomized phase II evaluation of carboplatin and CHIP in advanced transitional cell carcinoma of the urothelium. The Eastern Cooperative Oncology Group.</td>\n",
       "      <td>A total of 83 patients with metastatic transitional cell carcinoma who had previously received no systemic therapy entered a randomized phase II evaluation of carboplatin and cis-dichloro-transdihydroxy-bis-isopropylamine platinum IV (CHIP), administered respectively at 400 and 270 mg./m.2 every 28 days. Among evaluable patients with measurable disease response rates were 3 of 22 (14%, 95% confidence interval 5 to 35%) for carboplatin and 4 of 25 (16%, 95% confidence interval 5 to 36%) for CHIP. Among 17 patients with evaluable but not measurable metastases (10 carboplatin and 7 CHIP recipients) there were no responses. Median survival for 64 evaluable patients was 4.8 months (5.0 months for carboplatin and 4.3 months for CHIP recipients). Independent factors prognostic for survival (p less than 0.01) were performance status (0 or 1 versus 2 or 3), liver metastases, prior radiation therapy and recent weight loss (p = 0.02). Multivariate analysis confirmed that a performance status of 2 or 3 and liver metastases were predictive of shorter survival. A total of 31% of the patients treated with carboplatin and 34% of those who received CHIP experienced severe or life-threatening myelosuppression. While the response rates with carboplatin and CHIP are modest, we believe that the characteristics of these agents indicate that they should be evaluated further.</td>\n",
       "      <td>Median survival for 64 evaluable patients was 4.8 months (5.0 months for carboplatin and 4.3 months for CHIP recipients). Independent factors prognostic for survival (p less than 0.01) were performance status (0 or 1 versus 2 or 3), liver metastases, prior radiation therapy and recent weight loss (p = 0.02).</td>\n",
       "    </tr>\n",
       "  </tbody>\n",
       "</table>\n",
       "</div>"
      ],
      "text/plain": [
       "                                                                                                                                                            title  \\\n",
       "col_id                                                                                                                                                              \n",
       "2839                                                                                  Immunosuppressive acidic protein in malignant diseases. Clinical relevance?   \n",
       "5670                                                           Arterial mechanical properties in dilated cardiomyopathy. Aging and the response to nitroprusside.   \n",
       "6062                                                                           Physiology of aging related to outcome in the adult respiratory distress syndrome.   \n",
       "5609            The long-distance effects of brain lesions: visualization of myelinated pathways in the human brain using polarizing and fluorescence microscopy.   \n",
       "1924    Randomized phase II evaluation of carboplatin and CHIP in advanced transitional cell carcinoma of the urothelium. The Eastern Cooperative Oncology Group.   \n",
       "\n",
       "                                                                                                                                                                                                                                                                                                                                                                                                                                                                                                                                                                                                                                                                                                                                                                                                                                                                                                                                                                                                                                                                                                                                                                                                                                                                                                                                                                                                                                                                                                                                                                                                                                                                                                                                                                                                                   medical_abstract  \\\n",
       "col_id                                                                                                                                                                                                                                                                                                                                                                                                                                                                                                                                                                                                                                                                                                                                                                                                                                                                                                                                                                                                                                                                                                                                                                                                                                                                                                                                                                                                                                                                                                                                                                                                                                                                                                                                                                                                                                \n",
       "2839                                                                                                                                                                                                                                                                                                                                                                                                                                                                                                                                                                                                                                                                                                                                                                                                      The immunosuppressive acidic protein (IAP) has been described as a tumor associated marker in some solid tumors and hematologic diseases. To define the clinical relevance the authors determined the serum IAP levels in 194 patients with malignancies before initiation of therapy, 14 patients with idiopathic thrombocytopenic purpura (ITP), 28 patients with bacterial pneumonia, and 23 healthy volunteers. Immunosuppressive acidic protein was measured by radial immunodiffusion. The mean value of our controls was 405 +/- 48 micrograms/ml. This is consistent with published data. The mean values for patients with malignancies varied from 554 micrograms/ml to 698 micrograms/ml. These are only marginally higher than those observed for the controls. In contrast patients with bacterial pneumonia demonstrated significantly elevated values (1038 +/- 261 micrograms/ml). The authors conclude that IAP cannot be used as a diagnostic marker for the malignant diseases examined in this study.   \n",
       "5670    The effects of aging on arterial mechanical properties and the response to nitroprusside were examined in 25 patients with dilated cardiomyopathy. High-fidelity pressures were recorded with a multisensor catheter. Pulse wave velocity was determined between two sensors in the thoracic aorta. Arterial compliance was determined by an analysis of the diastolic waveform and cardiac output. At baseline, despite a similar systemic vascular resistance, the pulsatile load (e.g., arterial compliance) and wave transmission characteristics (e.g., pulse wave velocity) were altered with aging. Arterial compliance was reduced in older (greater than 50 yr, n = 8) versus younger (less than 35 yr, n = 8) patients (0.51 +/- 0.17 vs. 1.33 +/- 0.63 ml/mmHg, P less than 0.01) and intermediate in those 35-50 yr of age (n = 9, 0.72 +/- 0.40 ml/mmHg). There was a positive correlation between age and pulse wave velocity (r = +0.90). Nitroprusside infusion decreased resistance, increased arterial compliance, and lowered pulse wave velocity in all groups. Yet, advancing age was associated with a greater fall in wave velocity for a given fall in aortic pressure. The slope (K) of the relation between pulse wave velocity and aortic diastolic pressure progressively increased with age (0.01 +/- 0.03, 0.06 +/- 0.02, and 0.09 +/- 0.03 m/s-mmHg). Multiple linear regression analysis revealed a significant relation between K and age. These data demonstrate that in older patients with dilated cardiomyopathy the left ventricle is coupled to an arterial circulation that has a greater pulsatile load, despite a similar steady load. Furthermore, these age-related changes in the arterial system affect the hemodynamic response to pharmacologically-induced vasodilatation.   \n",
       "6062                                                                                                                                                                                                                    Thirty-nine patients with adult respiratory distress syndrome (ARDS) were enrolled in a study to identify potential age-related changes in organ system function that may help explain the apparent association between age and poor outcome in these patients. Criteria for enrollment included an arterial PO2-to-inspired O2 concentration ratio less than or equal to 200 in a clinical setting consistent with ARDS. Patients were excluded if they were less than 18 yr old, had clinical manifestations of congestive heart failure, were seropositive for the human immunodeficiency virus, or had stage II metastatic lung cancer. Patients were divided into two groups: those less than 60 yr old (mean 42 +/- 3 yr, n = 17) and those greater than or equal to 60 yr old (73 +/- 2 yr, n = 16). A group of six patients was analyzed as a separate subset based on a body temperature less than or equal to 97.5 degrees F at enrollment (hypothermic patients, 73 +/- 4 yr old). Sepsis was present in 67% of the nonhypothermic patients and in all the hypothermic patients. Mortality rates were 12% in the patients less than 60 yr and 69% in the nonhypothermic patients greater than or equal to 60 yr. All the hypothermic patients died. Sequential data obtained over 6 days were compared within and between groups. The following results were obtained. 1) The ratio of arterial PO2 to inspired O2 fraction was greater and the positive end-expiratory pressure used was significantly less in the patients greater than or equal to 60 yr old compared with the younger group.   \n",
       "5609                                                                                                                                                                                                                                                                                                                                                                                                                                                                                                                                                                                                                                                                                                                                                                                                                                                                                                                          We describe several new possibilities for the study of degenerated myelinated tracts in the human central nervous system (CNS). The methods are based on the visualization of myelin breakdown products that show birefringence in polarized light and, when stained with Nile blue and benzpyrene-3,4, exhibit fluorescence. Even after lengthy formalin fixation, the methods permit the localization of anterogradely degenerated tracts in a variety of fiber systems in the brains of patients who died between five and 20 months after the onset of neurological symptoms. Particularly the polarizing technique, because of its simplicity, can be added to the usual neuropathological methods for demonstrating the long-distance effects of a brain lesion. As research tools, these methods would also aid in the study of the anatomical substrate of human neurological symptomatology.   \n",
       "1924                                                                                                                                                                                                                                                                                                                                                                                                 A total of 83 patients with metastatic transitional cell carcinoma who had previously received no systemic therapy entered a randomized phase II evaluation of carboplatin and cis-dichloro-transdihydroxy-bis-isopropylamine platinum IV (CHIP), administered respectively at 400 and 270 mg./m.2 every 28 days. Among evaluable patients with measurable disease response rates were 3 of 22 (14%, 95% confidence interval 5 to 35%) for carboplatin and 4 of 25 (16%, 95% confidence interval 5 to 36%) for CHIP. Among 17 patients with evaluable but not measurable metastases (10 carboplatin and 7 CHIP recipients) there were no responses. Median survival for 64 evaluable patients was 4.8 months (5.0 months for carboplatin and 4.3 months for CHIP recipients). Independent factors prognostic for survival (p less than 0.01) were performance status (0 or 1 versus 2 or 3), liver metastases, prior radiation therapy and recent weight loss (p = 0.02). Multivariate analysis confirmed that a performance status of 2 or 3 and liver metastases were predictive of shorter survival. A total of 31% of the patients treated with carboplatin and 34% of those who received CHIP experienced severe or life-threatening myelosuppression. While the response rates with carboplatin and CHIP are modest, we believe that the characteristics of these agents indicate that they should be evaluated further.   \n",
       "\n",
       "                                                                                                                                                                                                                                                                                                                                                                                   summary  \n",
       "col_id                                                                                                                                                                                                                                                                                                                                                                                      \n",
       "2839                                                To define the clinical relevance the authors determined the serum IAP levels in 194 patients with malignancies before initiation of therapy, 14 patients with idiopathic thrombocytopenic purpura (ITP), 28 patients with bacterial pneumonia, and 23 healthy volunteers. The mean value of our controls was 405 +/- 48 micrograms/ml.  \n",
       "5670                                    Arterial compliance was reduced in older (greater than 50 yr, n = 8) versus younger (less than 35 yr, n = 8) patients (0.51 +/- 0.17 vs. 1.33 +/- 0.63 ml/mmHg, P less than 0.01) and intermediate in those 35-50 yr of age (n = 9, 0.72 +/- 0.40 ml/mmHg). Multiple linear regression analysis revealed a significant relation between K and age.  \n",
       "6062                                                                                                                                                                               Mortality rates were 12% in the patients less than 60 yr and 69% in the nonhypothermic patients greater than or equal to 60 yr. All the hypothermic patients died. The following results were obtained.  \n",
       "5609    Even after lengthy formalin fixation, the methods permit the localization of anterogradely degenerated tracts in a variety of fiber systems in the brains of patients who died between five and 20 months after the onset of neurological symptoms. As research tools, these methods would also aid in the study of the anatomical substrate of human neurological symptomatology.  \n",
       "1924                                                                 Median survival for 64 evaluable patients was 4.8 months (5.0 months for carboplatin and 4.3 months for CHIP recipients). Independent factors prognostic for survival (p less than 0.01) were performance status (0 or 1 versus 2 or 3), liver metastases, prior radiation therapy and recent weight loss (p = 0.02).  "
      ]
     },
     "execution_count": 55,
     "metadata": {},
     "output_type": "execute_result"
    }
   ],
   "source": [
    "pd.set_option('display.max_colwidth', None)\n",
    "summary_df.head()"
   ]
  },
  {
   "cell_type": "code",
   "execution_count": 56,
   "id": "f5d13ea3-837a-4c2c-8b38-01aa7a5e50bf",
   "metadata": {},
   "outputs": [],
   "source": [
    "summary_df.to_csv('Data/LSASumm.csv')"
   ]
  },
  {
   "cell_type": "markdown",
   "id": "b70ecee3",
   "metadata": {},
   "source": [
    "## LSA Evaluation"
   ]
  },
  {
   "cell_type": "code",
   "execution_count": 97,
   "id": "964ae6f9",
   "metadata": {},
   "outputs": [],
   "source": [
    "data = pd.read_csv('Data/LSASumm.csv')"
   ]
  },
  {
   "cell_type": "code",
   "execution_count": 98,
   "id": "0fdd6baa",
   "metadata": {},
   "outputs": [
    {
     "name": "stdout",
     "output_type": "stream",
     "text": [
      "{'rouge1': 0.17958395781861622, 'rouge2': 0.06491358027816224, 'rougeL': 0.14147401955939062, 'rougeLsum': 0.14156975537796002}\n"
     ]
    }
   ],
   "source": [
    "#from evaluate import load\n",
    "# Load the ROUGE metric\n",
    "import evaluate\n",
    "rouge = evaluate.load('rouge')\n",
    "candidates = list(data['summary'])\n",
    "\n",
    "references = list(data['title'])\n",
    "results = rouge.compute(predictions=candidates, references=references)\n",
    "print(results)"
   ]
  },
  {
   "cell_type": "markdown",
   "id": "512d51f2",
   "metadata": {},
   "source": [
    "# Casual Dataset"
   ]
  },
  {
   "cell_type": "code",
   "execution_count": 22,
   "id": "34a2f60a",
   "metadata": {},
   "outputs": [],
   "source": [
    "data = pd.read_csv('Data/title&abstract.csv', index_col = 0)"
   ]
  },
  {
   "cell_type": "code",
   "execution_count": 23,
   "id": "edff8be3",
   "metadata": {},
   "outputs": [],
   "source": [
    "import random"
   ]
  },
  {
   "cell_type": "code",
   "execution_count": 24,
   "id": "d786cac0",
   "metadata": {},
   "outputs": [],
   "source": [
    "tokenizer = nltk.data.load('tokenizers/punkt/english.pickle')\n",
    "\n",
    "rnd = []\n",
    "for document in data['medical_abstract']:\n",
    "    sentences = tokenizer.tokenize(document)\n",
    "    if len(sentences) > 2:\n",
    "        rnd.append(' '.join(random.sample(sentences, 2)))\n",
    "    else:\n",
    "        rnd.append(' '.join(sentences))"
   ]
  },
  {
   "cell_type": "code",
   "execution_count": 25,
   "id": "db3c8a90",
   "metadata": {},
   "outputs": [],
   "source": [
    "data['random_summary'] = rnd"
   ]
  },
  {
   "cell_type": "markdown",
   "id": "24dbefe8",
   "metadata": {},
   "source": [
    "## Random Evaluation"
   ]
  },
  {
   "cell_type": "code",
   "execution_count": 27,
   "id": "4fdbd09d",
   "metadata": {},
   "outputs": [
    {
     "name": "stdout",
     "output_type": "stream",
     "text": [
      "{'rouge1': 0.19889511104216673, 'rouge2': 0.07535874210351032, 'rougeL': 0.15696185120724238, 'rougeLsum': 0.15697829987334586}\n"
     ]
    }
   ],
   "source": [
    "import evaluate\n",
    "rouge = evaluate.load('rouge')\n",
    "candidates = list(data['random_summary'])\n",
    "\n",
    "references = list(data['title'])\n",
    "results = rouge.compute(predictions=candidates, references=references)\n",
    "print(results)"
   ]
  },
  {
   "cell_type": "code",
   "execution_count": 28,
   "id": "c26c39f2",
   "metadata": {},
   "outputs": [
    {
     "data": {
      "text/html": [
       "<div>\n",
       "<style scoped>\n",
       "    .dataframe tbody tr th:only-of-type {\n",
       "        vertical-align: middle;\n",
       "    }\n",
       "\n",
       "    .dataframe tbody tr th {\n",
       "        vertical-align: top;\n",
       "    }\n",
       "\n",
       "    .dataframe thead th {\n",
       "        text-align: right;\n",
       "    }\n",
       "</style>\n",
       "<table border=\"1\" class=\"dataframe\">\n",
       "  <thead>\n",
       "    <tr style=\"text-align: right;\">\n",
       "      <th></th>\n",
       "      <th>title</th>\n",
       "      <th>medical_abstract</th>\n",
       "      <th>random_summary</th>\n",
       "    </tr>\n",
       "    <tr>\n",
       "      <th>col_id</th>\n",
       "      <th></th>\n",
       "      <th></th>\n",
       "      <th></th>\n",
       "    </tr>\n",
       "  </thead>\n",
       "  <tbody>\n",
       "    <tr>\n",
       "      <th>2839</th>\n",
       "      <td>Immunosuppressive acidic protein in malignant ...</td>\n",
       "      <td>The immunosuppressive acidic protein (IAP) has...</td>\n",
       "      <td>These are only marginally higher than those ob...</td>\n",
       "    </tr>\n",
       "    <tr>\n",
       "      <th>5670</th>\n",
       "      <td>Arterial mechanical properties in dilated card...</td>\n",
       "      <td>The effects of aging on arterial mechanical pr...</td>\n",
       "      <td>Yet, advancing age was associated with a great...</td>\n",
       "    </tr>\n",
       "    <tr>\n",
       "      <th>6062</th>\n",
       "      <td>Physiology of aging related to outcome in the ...</td>\n",
       "      <td>Thirty-nine patients with adult respiratory di...</td>\n",
       "      <td>Criteria for enrollment included an arterial P...</td>\n",
       "    </tr>\n",
       "    <tr>\n",
       "      <th>5609</th>\n",
       "      <td>The long-distance effects of brain lesions: vi...</td>\n",
       "      <td>We describe several new possibilities for the ...</td>\n",
       "      <td>The methods are based on the visualization of ...</td>\n",
       "    </tr>\n",
       "    <tr>\n",
       "      <th>1924</th>\n",
       "      <td>Randomized phase II evaluation of carboplatin ...</td>\n",
       "      <td>A total of 83 patients with metastatic transit...</td>\n",
       "      <td>Independent factors prognostic for survival (p...</td>\n",
       "    </tr>\n",
       "    <tr>\n",
       "      <th>...</th>\n",
       "      <td>...</td>\n",
       "      <td>...</td>\n",
       "      <td>...</td>\n",
       "    </tr>\n",
       "    <tr>\n",
       "      <th>3125</th>\n",
       "      <td>Postoperative sore throat: topical hydrocortis...</td>\n",
       "      <td>Postoperative sore throat: topical hydrocortis...</td>\n",
       "      <td>They were allocated randomly into one of two g...</td>\n",
       "    </tr>\n",
       "    <tr>\n",
       "      <th>6430</th>\n",
       "      <td>Mortality from bladder cancer in dyestuff work...</td>\n",
       "      <td>Cancer mortality in workers exposed to 2,3,7,8...</td>\n",
       "      <td>In the subcohort of 1520 workers with greater ...</td>\n",
       "    </tr>\n",
       "    <tr>\n",
       "      <th>4094</th>\n",
       "      <td>Advances in breast reconstruction after mastec...</td>\n",
       "      <td>Reconstruction after mastectomy. Advances in m...</td>\n",
       "      <td>Because of the psychological and cultural sign...</td>\n",
       "    </tr>\n",
       "    <tr>\n",
       "      <th>6792</th>\n",
       "      <td>Headache: a marker of depression.</td>\n",
       "      <td>Headache: a marker of depression Patients who ...</td>\n",
       "      <td>It can be inferred from this study that the cl...</td>\n",
       "    </tr>\n",
       "    <tr>\n",
       "      <th>3764</th>\n",
       "      <td>Control of blood pressure in hypertensive neur...</td>\n",
       "      <td>Control of hypertensive emergencies Although u...</td>\n",
       "      <td>Control of hypertensive emergencies Although u...</td>\n",
       "    </tr>\n",
       "  </tbody>\n",
       "</table>\n",
       "<p>9403 rows × 3 columns</p>\n",
       "</div>"
      ],
      "text/plain": [
       "                                                    title  \\\n",
       "col_id                                                      \n",
       "2839    Immunosuppressive acidic protein in malignant ...   \n",
       "5670    Arterial mechanical properties in dilated card...   \n",
       "6062    Physiology of aging related to outcome in the ...   \n",
       "5609    The long-distance effects of brain lesions: vi...   \n",
       "1924    Randomized phase II evaluation of carboplatin ...   \n",
       "...                                                   ...   \n",
       "3125    Postoperative sore throat: topical hydrocortis...   \n",
       "6430    Mortality from bladder cancer in dyestuff work...   \n",
       "4094    Advances in breast reconstruction after mastec...   \n",
       "6792                    Headache: a marker of depression.   \n",
       "3764    Control of blood pressure in hypertensive neur...   \n",
       "\n",
       "                                         medical_abstract  \\\n",
       "col_id                                                      \n",
       "2839    The immunosuppressive acidic protein (IAP) has...   \n",
       "5670    The effects of aging on arterial mechanical pr...   \n",
       "6062    Thirty-nine patients with adult respiratory di...   \n",
       "5609    We describe several new possibilities for the ...   \n",
       "1924    A total of 83 patients with metastatic transit...   \n",
       "...                                                   ...   \n",
       "3125    Postoperative sore throat: topical hydrocortis...   \n",
       "6430    Cancer mortality in workers exposed to 2,3,7,8...   \n",
       "4094    Reconstruction after mastectomy. Advances in m...   \n",
       "6792    Headache: a marker of depression Patients who ...   \n",
       "3764    Control of hypertensive emergencies Although u...   \n",
       "\n",
       "                                           random_summary  \n",
       "col_id                                                     \n",
       "2839    These are only marginally higher than those ob...  \n",
       "5670    Yet, advancing age was associated with a great...  \n",
       "6062    Criteria for enrollment included an arterial P...  \n",
       "5609    The methods are based on the visualization of ...  \n",
       "1924    Independent factors prognostic for survival (p...  \n",
       "...                                                   ...  \n",
       "3125    They were allocated randomly into one of two g...  \n",
       "6430    In the subcohort of 1520 workers with greater ...  \n",
       "4094    Because of the psychological and cultural sign...  \n",
       "6792    It can be inferred from this study that the cl...  \n",
       "3764    Control of hypertensive emergencies Although u...  \n",
       "\n",
       "[9403 rows x 3 columns]"
      ]
     },
     "execution_count": 28,
     "metadata": {},
     "output_type": "execute_result"
    }
   ],
   "source": [
    "data"
   ]
  },
  {
   "cell_type": "code",
   "execution_count": 30,
   "id": "1ae9e60c",
   "metadata": {},
   "outputs": [],
   "source": [
    "graph_df = pd.read_csv('Data/GraphSumm.csv', index_col = 0)"
   ]
  },
  {
   "cell_type": "code",
   "execution_count": 33,
   "id": "da922058",
   "metadata": {},
   "outputs": [],
   "source": [
    "data = data.join(graph_df['summary'], how='left', on=None, sort=False)"
   ]
  },
  {
   "cell_type": "code",
   "execution_count": 36,
   "id": "88cd6848",
   "metadata": {},
   "outputs": [],
   "source": [
    "data = data.rename(columns={\"summary\": \"graph_summary\"})"
   ]
  },
  {
   "cell_type": "code",
   "execution_count": 37,
   "id": "4a979c93",
   "metadata": {},
   "outputs": [],
   "source": [
    "lsa_df = pd.read_csv('Data/LSASumm.csv', index_col = 0)\n",
    "data = data.join(lsa_df['summary'], how='left', on=None, sort=False)\n",
    "data = data.rename(columns={\"summary\": \"lsa_summary\"})"
   ]
  },
  {
   "cell_type": "code",
   "execution_count": 38,
   "id": "20ff1081",
   "metadata": {},
   "outputs": [],
   "source": [
    "data.to_csv('Data/summaries.csv')"
   ]
  },
  {
   "cell_type": "markdown",
   "id": "996e157f",
   "metadata": {},
   "source": [
    "# Evaluation with Classification"
   ]
  },
  {
   "cell_type": "code",
   "execution_count": 5,
   "id": "6c527368",
   "metadata": {},
   "outputs": [
    {
     "name": "stderr",
     "output_type": "stream",
     "text": [
      "C:\\Users\\david\\anaconda3\\lib\\site-packages\\paramiko\\transport.py:219: CryptographyDeprecationWarning: Blowfish has been deprecated\n",
      "  \"class\": algorithms.Blowfish,\n"
     ]
    }
   ],
   "source": [
    "from gensim.models import KeyedVectors\n",
    "model = KeyedVectors.load_word2vec_format('Pretrained Models/PubMed-and-PMC-w2v.bin', binary=True)"
   ]
  },
  {
   "cell_type": "code",
   "execution_count": 6,
   "id": "9d51db3b",
   "metadata": {},
   "outputs": [],
   "source": [
    "df_summaries = pd.read_csv('Data/summaries.csv', index_col = 0)"
   ]
  },
  {
   "cell_type": "code",
   "execution_count": 14,
   "id": "5abf1067",
   "metadata": {},
   "outputs": [],
   "source": [
    "train = pd.read_csv('Data/No PreProcessing/train.csv', index_col = 0)\n",
    "test = pd.read_csv('Data/No PreProcessing/test.csv', index_col = 0)\n",
    "data = pd.concat([train,test])"
   ]
  },
  {
   "cell_type": "code",
   "execution_count": 17,
   "id": "5a071980",
   "metadata": {},
   "outputs": [
    {
     "data": {
      "text/html": [
       "<div>\n",
       "<style scoped>\n",
       "    .dataframe tbody tr th:only-of-type {\n",
       "        vertical-align: middle;\n",
       "    }\n",
       "\n",
       "    .dataframe tbody tr th {\n",
       "        vertical-align: top;\n",
       "    }\n",
       "\n",
       "    .dataframe thead th {\n",
       "        text-align: right;\n",
       "    }\n",
       "</style>\n",
       "<table border=\"1\" class=\"dataframe\">\n",
       "  <thead>\n",
       "    <tr style=\"text-align: right;\">\n",
       "      <th></th>\n",
       "      <th>1</th>\n",
       "      <th>2</th>\n",
       "      <th>3</th>\n",
       "      <th>4</th>\n",
       "      <th>5</th>\n",
       "      <th>title</th>\n",
       "      <th>medical_abstract</th>\n",
       "      <th>random_summary</th>\n",
       "      <th>graph_summary</th>\n",
       "      <th>lsa_summary</th>\n",
       "    </tr>\n",
       "  </thead>\n",
       "  <tbody>\n",
       "    <tr>\n",
       "      <th>2839</th>\n",
       "      <td>1</td>\n",
       "      <td>0</td>\n",
       "      <td>0</td>\n",
       "      <td>0</td>\n",
       "      <td>0</td>\n",
       "      <td>Immunosuppressive acidic protein in malignant ...</td>\n",
       "      <td>The immunosuppressive acidic protein (IAP) has...</td>\n",
       "      <td>These are only marginally higher than those ob...</td>\n",
       "      <td>The immunosuppressive acidic protein (IAP) has...</td>\n",
       "      <td>To define the clinical relevance the authors d...</td>\n",
       "    </tr>\n",
       "    <tr>\n",
       "      <th>5670</th>\n",
       "      <td>0</td>\n",
       "      <td>0</td>\n",
       "      <td>0</td>\n",
       "      <td>1</td>\n",
       "      <td>0</td>\n",
       "      <td>Arterial mechanical properties in dilated card...</td>\n",
       "      <td>The effects of aging on arterial mechanical pr...</td>\n",
       "      <td>Yet, advancing age was associated with a great...</td>\n",
       "      <td>There was a positive correlation between age a...</td>\n",
       "      <td>Arterial compliance was reduced in older (grea...</td>\n",
       "    </tr>\n",
       "    <tr>\n",
       "      <th>6062</th>\n",
       "      <td>0</td>\n",
       "      <td>0</td>\n",
       "      <td>0</td>\n",
       "      <td>0</td>\n",
       "      <td>1</td>\n",
       "      <td>Physiology of aging related to outcome in the ...</td>\n",
       "      <td>Thirty-nine patients with adult respiratory di...</td>\n",
       "      <td>Criteria for enrollment included an arterial P...</td>\n",
       "      <td>Patients were divided into two groups: those l...</td>\n",
       "      <td>Mortality rates were 12% in the patients less ...</td>\n",
       "    </tr>\n",
       "    <tr>\n",
       "      <th>5609</th>\n",
       "      <td>0</td>\n",
       "      <td>0</td>\n",
       "      <td>1</td>\n",
       "      <td>0</td>\n",
       "      <td>1</td>\n",
       "      <td>The long-distance effects of brain lesions: vi...</td>\n",
       "      <td>We describe several new possibilities for the ...</td>\n",
       "      <td>The methods are based on the visualization of ...</td>\n",
       "      <td>Even after lengthy formalin fixation, the meth...</td>\n",
       "      <td>Even after lengthy formalin fixation, the meth...</td>\n",
       "    </tr>\n",
       "    <tr>\n",
       "      <th>1924</th>\n",
       "      <td>1</td>\n",
       "      <td>0</td>\n",
       "      <td>0</td>\n",
       "      <td>0</td>\n",
       "      <td>0</td>\n",
       "      <td>Randomized phase II evaluation of carboplatin ...</td>\n",
       "      <td>A total of 83 patients with metastatic transit...</td>\n",
       "      <td>Independent factors prognostic for survival (p...</td>\n",
       "      <td>Among evaluable patients with measurable disea...</td>\n",
       "      <td>Median survival for 64 evaluable patients was ...</td>\n",
       "    </tr>\n",
       "  </tbody>\n",
       "</table>\n",
       "</div>"
      ],
      "text/plain": [
       "      1  2  3  4  5                                              title  \\\n",
       "2839  1  0  0  0  0  Immunosuppressive acidic protein in malignant ...   \n",
       "5670  0  0  0  1  0  Arterial mechanical properties in dilated card...   \n",
       "6062  0  0  0  0  1  Physiology of aging related to outcome in the ...   \n",
       "5609  0  0  1  0  1  The long-distance effects of brain lesions: vi...   \n",
       "1924  1  0  0  0  0  Randomized phase II evaluation of carboplatin ...   \n",
       "\n",
       "                                       medical_abstract  \\\n",
       "2839  The immunosuppressive acidic protein (IAP) has...   \n",
       "5670  The effects of aging on arterial mechanical pr...   \n",
       "6062  Thirty-nine patients with adult respiratory di...   \n",
       "5609  We describe several new possibilities for the ...   \n",
       "1924  A total of 83 patients with metastatic transit...   \n",
       "\n",
       "                                         random_summary  \\\n",
       "2839  These are only marginally higher than those ob...   \n",
       "5670  Yet, advancing age was associated with a great...   \n",
       "6062  Criteria for enrollment included an arterial P...   \n",
       "5609  The methods are based on the visualization of ...   \n",
       "1924  Independent factors prognostic for survival (p...   \n",
       "\n",
       "                                          graph_summary  \\\n",
       "2839  The immunosuppressive acidic protein (IAP) has...   \n",
       "5670  There was a positive correlation between age a...   \n",
       "6062  Patients were divided into two groups: those l...   \n",
       "5609  Even after lengthy formalin fixation, the meth...   \n",
       "1924  Among evaluable patients with measurable disea...   \n",
       "\n",
       "                                            lsa_summary  \n",
       "2839  To define the clinical relevance the authors d...  \n",
       "5670  Arterial compliance was reduced in older (grea...  \n",
       "6062  Mortality rates were 12% in the patients less ...  \n",
       "5609  Even after lengthy formalin fixation, the meth...  \n",
       "1924  Median survival for 64 evaluable patients was ...  "
      ]
     },
     "execution_count": 17,
     "metadata": {},
     "output_type": "execute_result"
    }
   ],
   "source": [
    "data = pd.merge(data[['1','2','3','4','5']], df_summaries, left_index=True, right_index=True)\n",
    "#data = df_summaries.join(data[['1','2','3','4','5']], how='left', on=None, sort=False)\n",
    "data.head()"
   ]
  },
  {
   "cell_type": "code",
   "execution_count": 19,
   "id": "236c323d",
   "metadata": {},
   "outputs": [],
   "source": [
    "def vectorize(sentence):\n",
    "    words = sentence.split()\n",
    "    words_vecs = [model[word] for word in words if word in model]\n",
    "    if len(words_vecs) == 0:\n",
    "        return np.zeros(100)\n",
    "    words_vecs = np.array(words_vecs)\n",
    "    return words_vecs.mean(axis=0)"
   ]
  },
  {
   "cell_type": "code",
   "execution_count": 20,
   "id": "c27a965d",
   "metadata": {},
   "outputs": [],
   "source": [
    "# Preprocess summary columns\n",
    "def preprocess(text):\n",
    "    # Remove punctuation and other non-alphanumeric characters\n",
    "    text =  re.sub('[^a-zA-Z]', ' ', text)\n",
    "    # Tokenize the text into words\n",
    "    words = word_tokenize(text.lower())\n",
    "    # Remove stop words\n",
    "    words = [word for word in words if word not in stopwords.words('english')]\n",
    "    # Join the words back into a string\n",
    "    return ' '.join(words)\n",
    "\n",
    "data['random_summary'] = data['random_summary'].apply(lambda x: preprocess(x))\n",
    "data['graph_summary'] = data['graph_summary'].apply(lambda x: preprocess(x))\n",
    "data['lsa_summary'] = data['lsa_summary'].apply(lambda x: preprocess(x))"
   ]
  },
  {
   "cell_type": "code",
   "execution_count": 22,
   "id": "6e7cbcdb",
   "metadata": {},
   "outputs": [],
   "source": [
    "data = data.drop(data[data['random_summary'] == ''].index)"
   ]
  },
  {
   "cell_type": "code",
   "execution_count": 23,
   "id": "77a7f622",
   "metadata": {},
   "outputs": [],
   "source": [
    "data.to_csv('Data/summariesPreprocessed.csv')"
   ]
  },
  {
   "cell_type": "code",
   "execution_count": 24,
   "id": "0e561366",
   "metadata": {},
   "outputs": [
    {
     "name": "stdout",
     "output_type": "stream",
     "text": [
      "fold 1:\n",
      "{'DT': 0.451, 'RF': 0.516, 'NB': 0.626, 'SVM': 0.638}\n",
      " \n",
      "fold 2:\n",
      "{'DT': 0.476, 'RF': 0.517, 'NB': 0.604, 'SVM': 0.621}\n",
      " \n",
      "fold 3:\n",
      "{'DT': 0.478, 'RF': 0.511, 'NB': 0.614, 'SVM': 0.635}\n",
      " \n",
      "fold 4:\n",
      "{'DT': 0.472, 'RF': 0.515, 'NB': 0.629, 'SVM': 0.638}\n",
      " \n",
      "fold 5:\n",
      "{'DT': 0.472, 'RF': 0.505, 'NB': 0.625, 'SVM': 0.632}\n",
      " \n"
     ]
    },
    {
     "data": {
      "text/plain": [
       "{'DT': 0.46980000000000005,\n",
       " 'RF': 0.5128,\n",
       " 'NB': 0.6195999999999999,\n",
       " 'SVM': 0.6328}"
      ]
     },
     "execution_count": 24,
     "metadata": {},
     "output_type": "execute_result"
    }
   ],
   "source": [
    "kf = KFold(n_splits=5)\n",
    "\n",
    "fold = 0\n",
    "Kresults = []\n",
    "\n",
    "for train_index, test_index in kf.split(data):\n",
    "    fold += 1\n",
    "    train = data.iloc[train_index]\n",
    "    test = data.iloc[test_index]\n",
    "    \n",
    "    FE_train = pd.DataFrame(np.array([vectorize(doc) for doc in train['random_summary']]))\n",
    "    FE_test = pd.DataFrame(np.array([vectorize(doc) for doc in test['random_summary']]))\n",
    "    \n",
    "    Kresult = micro_f1SVM(build_resultsSVM(FE_train, FE_test, train, test))\n",
    "    Kresults.append(Kresult)\n",
    "    print(\"fold \" + str(fold) + \":\")\n",
    "    print(Kresult)\n",
    "    print(\" \")\n",
    "    \n",
    "    DT, RF, NB, SVM = 0, 0, 0, 0\n",
    "    for result in Kresults:\n",
    "        DT += result['DT']\n",
    "        RF += result['RF']\n",
    "        NB += result['NB']\n",
    "        SVM += result['SVM']\n",
    "    result = {'DT': DT/5, 'RF': RF/5, 'NB': NB/5, 'SVM': SVM/5}\n",
    "result"
   ]
  },
  {
   "cell_type": "code",
   "execution_count": 27,
   "id": "38f841b4",
   "metadata": {},
   "outputs": [
    {
     "name": "stdout",
     "output_type": "stream",
     "text": [
      "fold 1:\n",
      "{'DT': 0.495, 'RF': 0.528, 'NB': 0.615, 'SVM': 0.651}\n",
      " \n",
      "fold 2:\n",
      "{'DT': 0.484, 'RF': 0.523, 'NB': 0.609, 'SVM': 0.647}\n",
      " \n",
      "fold 3:\n",
      "{'DT': 0.499, 'RF': 0.538, 'NB': 0.621, 'SVM': 0.653}\n",
      " \n",
      "fold 4:\n",
      "{'DT': 0.491, 'RF': 0.524, 'NB': 0.617, 'SVM': 0.639}\n",
      " \n",
      "fold 5:\n",
      "{'DT': 0.483, 'RF': 0.523, 'NB': 0.637, 'SVM': 0.64}\n",
      " \n"
     ]
    },
    {
     "data": {
      "text/plain": [
       "{'DT': 0.4904,\n",
       " 'RF': 0.5272000000000001,\n",
       " 'NB': 0.6197999999999999,\n",
       " 'SVM': 0.646}"
      ]
     },
     "execution_count": 27,
     "metadata": {},
     "output_type": "execute_result"
    }
   ],
   "source": [
    "kf = KFold(n_splits=5)\n",
    "\n",
    "fold = 0\n",
    "Kresults = []\n",
    "\n",
    "for train_index, test_index in kf.split(data):\n",
    "    fold += 1\n",
    "    train = data.iloc[train_index]\n",
    "    test = data.iloc[test_index]\n",
    "    \n",
    "    FE_train = pd.DataFrame(np.array([vectorize(doc) for doc in train['graph_summary']]))\n",
    "    FE_test = pd.DataFrame(np.array([vectorize(doc) for doc in test['graph_summary']]))\n",
    "    \n",
    "    Kresult = micro_f1SVM(build_resultsSVM(FE_train, FE_test, train, test))\n",
    "    Kresults.append(Kresult)\n",
    "    print(\"fold \" + str(fold) + \":\")\n",
    "    print(Kresult)\n",
    "    print(\" \")\n",
    "    \n",
    "    DT, RF, NB, SVM = 0, 0, 0, 0\n",
    "    for result in Kresults:\n",
    "        DT += result['DT']\n",
    "        RF += result['RF']\n",
    "        NB += result['NB']\n",
    "        SVM += result['SVM']\n",
    "    result = {'DT': DT/5, 'RF': RF/5, 'NB': NB/5, 'SVM': SVM/5}\n",
    "result"
   ]
  },
  {
   "cell_type": "code",
   "execution_count": 28,
   "id": "702eb587",
   "metadata": {},
   "outputs": [
    {
     "name": "stdout",
     "output_type": "stream",
     "text": [
      "fold 1:\n",
      "{'DT': 0.449, 'RF': 0.515, 'NB': 0.596, 'SVM': 0.626}\n",
      " \n",
      "fold 2:\n",
      "{'DT': 0.485, 'RF': 0.505, 'NB': 0.586, 'SVM': 0.622}\n",
      " \n",
      "fold 3:\n",
      "{'DT': 0.473, 'RF': 0.519, 'NB': 0.597, 'SVM': 0.643}\n",
      " \n",
      "fold 4:\n",
      "{'DT': 0.482, 'RF': 0.511, 'NB': 0.588, 'SVM': 0.63}\n",
      " \n",
      "fold 5:\n",
      "{'DT': 0.467, 'RF': 0.507, 'NB': 0.604, 'SVM': 0.62}\n",
      " \n"
     ]
    },
    {
     "data": {
      "text/plain": [
       "{'DT': 0.47119999999999995,\n",
       " 'RF': 0.5114000000000001,\n",
       " 'NB': 0.5942000000000001,\n",
       " 'SVM': 0.6282}"
      ]
     },
     "execution_count": 28,
     "metadata": {},
     "output_type": "execute_result"
    }
   ],
   "source": [
    "kf = KFold(n_splits=5)\n",
    "\n",
    "fold = 0\n",
    "Kresults = []\n",
    "\n",
    "for train_index, test_index in kf.split(data):\n",
    "    fold += 1\n",
    "    train = data.iloc[train_index]\n",
    "    test = data.iloc[test_index]\n",
    "    \n",
    "    FE_train = pd.DataFrame(np.array([vectorize(doc) for doc in train['lsa_summary']]))\n",
    "    FE_test = pd.DataFrame(np.array([vectorize(doc) for doc in test['lsa_summary']]))\n",
    "    \n",
    "    Kresult = micro_f1SVM(build_resultsSVM(FE_train, FE_test, train, test))\n",
    "    Kresults.append(Kresult)\n",
    "    print(\"fold \" + str(fold) + \":\")\n",
    "    print(Kresult)\n",
    "    print(\" \")\n",
    "    \n",
    "    DT, RF, NB, SVM = 0, 0, 0, 0\n",
    "    for result in Kresults:\n",
    "        DT += result['DT']\n",
    "        RF += result['RF']\n",
    "        NB += result['NB']\n",
    "        SVM += result['SVM']\n",
    "    result = {'DT': DT/5, 'RF': RF/5, 'NB': NB/5, 'SVM': SVM/5}\n",
    "result"
   ]
  },
  {
   "cell_type": "code",
   "execution_count": null,
   "id": "930ccc42",
   "metadata": {},
   "outputs": [],
   "source": []
  }
 ],
 "metadata": {
  "kernelspec": {
   "display_name": "TextMiningK",
   "language": "python",
   "name": "textminingk"
  },
  "language_info": {
   "codemirror_mode": {
    "name": "ipython",
    "version": 3
   },
   "file_extension": ".py",
   "mimetype": "text/x-python",
   "name": "python",
   "nbconvert_exporter": "python",
   "pygments_lexer": "ipython3",
   "version": "3.9.13"
  }
 },
 "nbformat": 4,
 "nbformat_minor": 5
}
